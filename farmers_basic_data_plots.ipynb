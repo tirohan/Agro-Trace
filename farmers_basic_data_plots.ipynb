{
  "nbformat": 4,
  "nbformat_minor": 0,
  "metadata": {
    "colab": {
      "name": "farmers_basic_data_plots.ipynb",
      "provenance": []
    },
    "kernelspec": {
      "display_name": "Python 3",
      "name": "python3"
    },
    "language_info": {
      "name": "python"
    }
  },
  "cells": [
    {
      "cell_type": "code",
      "metadata": {
        "colab": {
          "base_uri": "https://localhost:8080/"
        },
        "id": "irUn5-CxF6d2",
        "outputId": "c9cd732f-3e84-4e2d-fa19-8b890d07ae00"
      },
      "source": [
        "from google.colab import drive\n",
        "drive.mount('/content/drive')"
      ],
      "execution_count": null,
      "outputs": [
        {
          "output_type": "stream",
          "text": [
            "Mounted at /content/drive\n"
          ],
          "name": "stdout"
        }
      ]
    },
    {
      "cell_type": "code",
      "metadata": {
        "id": "4b9dJvwFGD3W"
      },
      "source": [
        "import numpy as np\n",
        "import pandas as pd\n",
        "import matplotlib.pyplot as plt\n",
        "import seaborn as sns"
      ],
      "execution_count": null,
      "outputs": []
    },
    {
      "cell_type": "code",
      "metadata": {
        "id": "lz1MDmm4GD6V"
      },
      "source": [
        "data = pd.read_csv('/content/drive/MyDrive/Agrotrace/farmers_basic_data.csv')"
      ],
      "execution_count": null,
      "outputs": []
    },
    {
      "cell_type": "code",
      "metadata": {
        "colab": {
          "base_uri": "https://localhost:8080/",
          "height": 391
        },
        "id": "2qhxS0rHGD_1",
        "outputId": "b426f871-e0cc-440f-8164-f890bc7b483f"
      },
      "source": [
        "data.head()"
      ],
      "execution_count": null,
      "outputs": [
        {
          "output_type": "execute_result",
          "data": {
            "text/html": [
              "<div>\n",
              "<style scoped>\n",
              "    .dataframe tbody tr th:only-of-type {\n",
              "        vertical-align: middle;\n",
              "    }\n",
              "\n",
              "    .dataframe tbody tr th {\n",
              "        vertical-align: top;\n",
              "    }\n",
              "\n",
              "    .dataframe thead th {\n",
              "        text-align: right;\n",
              "    }\n",
              "</style>\n",
              "<table border=\"1\" class=\"dataframe\">\n",
              "  <thead>\n",
              "    <tr style=\"text-align: right;\">\n",
              "      <th></th>\n",
              "      <th>id</th>\n",
              "      <th>long</th>\n",
              "      <th>lat</th>\n",
              "      <th>old_registration_no</th>\n",
              "      <th>registration_no</th>\n",
              "      <th>number</th>\n",
              "      <th>name</th>\n",
              "      <th>father</th>\n",
              "      <th>mother</th>\n",
              "      <th>gender</th>\n",
              "      <th>birthday</th>\n",
              "      <th>blood_group</th>\n",
              "      <th>nid</th>\n",
              "      <th>mobile</th>\n",
              "      <th>bankaccount</th>\n",
              "      <th>bankname</th>\n",
              "      <th>remove</th>\n",
              "      <th>ownland</th>\n",
              "      <th>photo</th>\n",
              "      <th>date_of_entry</th>\n",
              "      <th>education</th>\n",
              "      <th>area_id</th>\n",
              "      <th>extension_center_id</th>\n",
              "      <th>village_id</th>\n",
              "      <th>created_at</th>\n",
              "      <th>updated_at</th>\n",
              "      <th>old_number</th>\n",
              "      <th>marital_status</th>\n",
              "      <th>has_contract_with_other_companies</th>\n",
              "      <th>other_companies_info</th>\n",
              "      <th>registered_acr</th>\n",
              "      <th>latitude</th>\n",
              "      <th>longitude</th>\n",
              "      <th>reg_type</th>\n",
              "      <th>refercence</th>\n",
              "      <th>last_edited_by</th>\n",
              "    </tr>\n",
              "  </thead>\n",
              "  <tbody>\n",
              "    <tr>\n",
              "      <th>0</th>\n",
              "      <td>1</td>\n",
              "      <td>89.38900</td>\n",
              "      <td>25.93488</td>\n",
              "      <td>2.102050e+10</td>\n",
              "      <td>21010301026</td>\n",
              "      <td>26</td>\n",
              "      <td>Abinash Chandra Roy</td>\n",
              "      <td>Sushil Chandra Roy</td>\n",
              "      <td>Monti Bala</td>\n",
              "      <td>Male</td>\n",
              "      <td>8/9/1962</td>\n",
              "      <td>B+</td>\n",
              "      <td>6.870004e+09</td>\n",
              "      <td>1.737098e+09</td>\n",
              "      <td>NaN</td>\n",
              "      <td>NaN</td>\n",
              "      <td>0</td>\n",
              "      <td>3.50</td>\n",
              "      <td>NaN</td>\n",
              "      <td>12/28/2020</td>\n",
              "      <td>5</td>\n",
              "      <td>6</td>\n",
              "      <td>17</td>\n",
              "      <td>91</td>\n",
              "      <td>12/28/2020 18:36</td>\n",
              "      <td>3/31/2021 22:24</td>\n",
              "      <td>1.0</td>\n",
              "      <td>1.0</td>\n",
              "      <td>NaN</td>\n",
              "      <td>NaN</td>\n",
              "      <td>NaN</td>\n",
              "      <td>25.93488</td>\n",
              "      <td>89.38900</td>\n",
              "      <td>1</td>\n",
              "      <td>NaN</td>\n",
              "      <td>NaN</td>\n",
              "    </tr>\n",
              "    <tr>\n",
              "      <th>1</th>\n",
              "      <td>2</td>\n",
              "      <td>89.39408</td>\n",
              "      <td>25.93322</td>\n",
              "      <td>2.102050e+10</td>\n",
              "      <td>21010301001</td>\n",
              "      <td>1</td>\n",
              "      <td>Ramen Chandra Ray</td>\n",
              "      <td>Late Sarbanando Ray</td>\n",
              "      <td>Giri Bala</td>\n",
              "      <td>Male</td>\n",
              "      <td>12/15/1985</td>\n",
              "      <td>A+</td>\n",
              "      <td>9.120007e+09</td>\n",
              "      <td>1.732155e+09</td>\n",
              "      <td>NaN</td>\n",
              "      <td>NaN</td>\n",
              "      <td>0</td>\n",
              "      <td>2.00</td>\n",
              "      <td>NaN</td>\n",
              "      <td>12/28/2020</td>\n",
              "      <td>8</td>\n",
              "      <td>6</td>\n",
              "      <td>17</td>\n",
              "      <td>91</td>\n",
              "      <td>12/28/2020 18:36</td>\n",
              "      <td>3/31/2021 22:24</td>\n",
              "      <td>2.0</td>\n",
              "      <td>1.0</td>\n",
              "      <td>NaN</td>\n",
              "      <td>NaN</td>\n",
              "      <td>NaN</td>\n",
              "      <td>25.93322</td>\n",
              "      <td>89.39408</td>\n",
              "      <td>1</td>\n",
              "      <td>NaN</td>\n",
              "      <td>NaN</td>\n",
              "    </tr>\n",
              "    <tr>\n",
              "      <th>2</th>\n",
              "      <td>4</td>\n",
              "      <td>89.39209</td>\n",
              "      <td>25.93412</td>\n",
              "      <td>2.102050e+10</td>\n",
              "      <td>21010301002</td>\n",
              "      <td>2</td>\n",
              "      <td>Ranzid Kumar Roy</td>\n",
              "      <td>Naresh Chandra Roy</td>\n",
              "      <td>Sorobala</td>\n",
              "      <td>Male</td>\n",
              "      <td>10/22/1977</td>\n",
              "      <td>NaN</td>\n",
              "      <td>5.970134e+09</td>\n",
              "      <td>1.776814e+09</td>\n",
              "      <td>NaN</td>\n",
              "      <td>NaN</td>\n",
              "      <td>0</td>\n",
              "      <td>0.54</td>\n",
              "      <td>NaN</td>\n",
              "      <td>12/28/2020</td>\n",
              "      <td>1</td>\n",
              "      <td>6</td>\n",
              "      <td>17</td>\n",
              "      <td>91</td>\n",
              "      <td>12/28/2020 18:36</td>\n",
              "      <td>3/31/2021 22:24</td>\n",
              "      <td>4.0</td>\n",
              "      <td>NaN</td>\n",
              "      <td>NaN</td>\n",
              "      <td>NaN</td>\n",
              "      <td>NaN</td>\n",
              "      <td>25.93412</td>\n",
              "      <td>89.39209</td>\n",
              "      <td>1</td>\n",
              "      <td>NaN</td>\n",
              "      <td>NaN</td>\n",
              "    </tr>\n",
              "    <tr>\n",
              "      <th>3</th>\n",
              "      <td>5</td>\n",
              "      <td>89.38958</td>\n",
              "      <td>25.93684</td>\n",
              "      <td>2.102050e+10</td>\n",
              "      <td>21010301003</td>\n",
              "      <td>3</td>\n",
              "      <td>Md. Malek Mia</td>\n",
              "      <td>Md. Fazal Uddin</td>\n",
              "      <td>Most.Amema Khatun</td>\n",
              "      <td>Male</td>\n",
              "      <td>10/9/1979</td>\n",
              "      <td>NaN</td>\n",
              "      <td>8.215852e+09</td>\n",
              "      <td>1.750286e+09</td>\n",
              "      <td>NaN</td>\n",
              "      <td>NaN</td>\n",
              "      <td>0</td>\n",
              "      <td>1.35</td>\n",
              "      <td>NaN</td>\n",
              "      <td>12/28/2020</td>\n",
              "      <td>1</td>\n",
              "      <td>6</td>\n",
              "      <td>17</td>\n",
              "      <td>91</td>\n",
              "      <td>12/28/2020 18:36</td>\n",
              "      <td>3/31/2021 22:24</td>\n",
              "      <td>5.0</td>\n",
              "      <td>1.0</td>\n",
              "      <td>NaN</td>\n",
              "      <td>NaN</td>\n",
              "      <td>NaN</td>\n",
              "      <td>25.93684</td>\n",
              "      <td>89.38958</td>\n",
              "      <td>1</td>\n",
              "      <td>NaN</td>\n",
              "      <td>NaN</td>\n",
              "    </tr>\n",
              "    <tr>\n",
              "      <th>4</th>\n",
              "      <td>8</td>\n",
              "      <td>89.38924</td>\n",
              "      <td>25.93956</td>\n",
              "      <td>2.102050e+10</td>\n",
              "      <td>21010301005</td>\n",
              "      <td>5</td>\n",
              "      <td>Roton Kumar Roy</td>\n",
              "      <td>Chandradhor Roy</td>\n",
              "      <td>Modhurani Bormon</td>\n",
              "      <td>Male</td>\n",
              "      <td>1/8/1991</td>\n",
              "      <td>NaN</td>\n",
              "      <td>2.362334e+09</td>\n",
              "      <td>1.764714e+09</td>\n",
              "      <td>NaN</td>\n",
              "      <td>NaN</td>\n",
              "      <td>0</td>\n",
              "      <td>1.00</td>\n",
              "      <td>NaN</td>\n",
              "      <td>12/28/2020</td>\n",
              "      <td>S.S.C</td>\n",
              "      <td>6</td>\n",
              "      <td>17</td>\n",
              "      <td>91</td>\n",
              "      <td>12/28/2020 18:36</td>\n",
              "      <td>3/31/2021 22:24</td>\n",
              "      <td>8.0</td>\n",
              "      <td>1.0</td>\n",
              "      <td>NaN</td>\n",
              "      <td>NaN</td>\n",
              "      <td>NaN</td>\n",
              "      <td>25.93956</td>\n",
              "      <td>89.38924</td>\n",
              "      <td>1</td>\n",
              "      <td>NaN</td>\n",
              "      <td>NaN</td>\n",
              "    </tr>\n",
              "  </tbody>\n",
              "</table>\n",
              "</div>"
            ],
            "text/plain": [
              "   id      long       lat  ...  reg_type  refercence  last_edited_by\n",
              "0   1  89.38900  25.93488  ...         1         NaN             NaN\n",
              "1   2  89.39408  25.93322  ...         1         NaN             NaN\n",
              "2   4  89.39209  25.93412  ...         1         NaN             NaN\n",
              "3   5  89.38958  25.93684  ...         1         NaN             NaN\n",
              "4   8  89.38924  25.93956  ...         1         NaN             NaN\n",
              "\n",
              "[5 rows x 36 columns]"
            ]
          },
          "metadata": {
            "tags": []
          },
          "execution_count": 5
        }
      ]
    },
    {
      "cell_type": "code",
      "metadata": {
        "colab": {
          "base_uri": "https://localhost:8080/",
          "height": 315
        },
        "id": "1bvAsAFvGx6I",
        "outputId": "c0970a54-ee0d-4091-b9f8-ceedcd8a2dba"
      },
      "source": [
        "data.describe()"
      ],
      "execution_count": null,
      "outputs": [
        {
          "output_type": "execute_result",
          "data": {
            "text/html": [
              "<div>\n",
              "<style scoped>\n",
              "    .dataframe tbody tr th:only-of-type {\n",
              "        vertical-align: middle;\n",
              "    }\n",
              "\n",
              "    .dataframe tbody tr th {\n",
              "        vertical-align: top;\n",
              "    }\n",
              "\n",
              "    .dataframe thead th {\n",
              "        text-align: right;\n",
              "    }\n",
              "</style>\n",
              "<table border=\"1\" class=\"dataframe\">\n",
              "  <thead>\n",
              "    <tr style=\"text-align: right;\">\n",
              "      <th></th>\n",
              "      <th>id</th>\n",
              "      <th>long</th>\n",
              "      <th>lat</th>\n",
              "      <th>old_registration_no</th>\n",
              "      <th>registration_no</th>\n",
              "      <th>number</th>\n",
              "      <th>nid</th>\n",
              "      <th>mobile</th>\n",
              "      <th>bankaccount</th>\n",
              "      <th>bankname</th>\n",
              "      <th>remove</th>\n",
              "      <th>ownland</th>\n",
              "      <th>area_id</th>\n",
              "      <th>extension_center_id</th>\n",
              "      <th>village_id</th>\n",
              "      <th>old_number</th>\n",
              "      <th>marital_status</th>\n",
              "      <th>has_contract_with_other_companies</th>\n",
              "      <th>registered_acr</th>\n",
              "      <th>latitude</th>\n",
              "      <th>longitude</th>\n",
              "      <th>reg_type</th>\n",
              "      <th>refercence</th>\n",
              "      <th>last_edited_by</th>\n",
              "    </tr>\n",
              "  </thead>\n",
              "  <tbody>\n",
              "    <tr>\n",
              "      <th>count</th>\n",
              "      <td>686.000000</td>\n",
              "      <td>6.860000e+02</td>\n",
              "      <td>6.860000e+02</td>\n",
              "      <td>4.510000e+02</td>\n",
              "      <td>6.860000e+02</td>\n",
              "      <td>686.000000</td>\n",
              "      <td>6.860000e+02</td>\n",
              "      <td>6.850000e+02</td>\n",
              "      <td>0.0</td>\n",
              "      <td>0.0</td>\n",
              "      <td>686.0</td>\n",
              "      <td>686.000000</td>\n",
              "      <td>686.000000</td>\n",
              "      <td>686.000000</td>\n",
              "      <td>686.000000</td>\n",
              "      <td>451.000000</td>\n",
              "      <td>656.000000</td>\n",
              "      <td>46.0</td>\n",
              "      <td>370.000000</td>\n",
              "      <td>6.860000e+02</td>\n",
              "      <td>6.860000e+02</td>\n",
              "      <td>686.0</td>\n",
              "      <td>0.0</td>\n",
              "      <td>290.000000</td>\n",
              "    </tr>\n",
              "    <tr>\n",
              "      <th>mean</th>\n",
              "      <td>656.361516</td>\n",
              "      <td>2.609210e+04</td>\n",
              "      <td>1.237156e+05</td>\n",
              "      <td>2.320059e+10</td>\n",
              "      <td>2.102119e+10</td>\n",
              "      <td>14.418367</td>\n",
              "      <td>4.234651e+14</td>\n",
              "      <td>1.467666e+09</td>\n",
              "      <td>NaN</td>\n",
              "      <td>NaN</td>\n",
              "      <td>0.0</td>\n",
              "      <td>2.196822</td>\n",
              "      <td>7.887755</td>\n",
              "      <td>11.224490</td>\n",
              "      <td>71.809038</td>\n",
              "      <td>69.161863</td>\n",
              "      <td>0.972561</td>\n",
              "      <td>1.0</td>\n",
              "      <td>1.330595</td>\n",
              "      <td>1.237156e+05</td>\n",
              "      <td>2.609210e+04</td>\n",
              "      <td>1.0</td>\n",
              "      <td>NaN</td>\n",
              "      <td>7.462069</td>\n",
              "    </tr>\n",
              "    <tr>\n",
              "      <th>std</th>\n",
              "      <td>293.983530</td>\n",
              "      <td>4.812304e+05</td>\n",
              "      <td>3.142069e+06</td>\n",
              "      <td>4.609790e+10</td>\n",
              "      <td>1.047595e+07</td>\n",
              "      <td>14.940316</td>\n",
              "      <td>2.835820e+15</td>\n",
              "      <td>1.310709e+09</td>\n",
              "      <td>NaN</td>\n",
              "      <td>NaN</td>\n",
              "      <td>0.0</td>\n",
              "      <td>9.336709</td>\n",
              "      <td>2.279825</td>\n",
              "      <td>3.957701</td>\n",
              "      <td>53.156702</td>\n",
              "      <td>114.026558</td>\n",
              "      <td>0.163484</td>\n",
              "      <td>0.0</td>\n",
              "      <td>3.652055</td>\n",
              "      <td>3.142069e+06</td>\n",
              "      <td>4.812304e+05</td>\n",
              "      <td>0.0</td>\n",
              "      <td>NaN</td>\n",
              "      <td>1.954573</td>\n",
              "    </tr>\n",
              "    <tr>\n",
              "      <th>min</th>\n",
              "      <td>1.000000</td>\n",
              "      <td>2.932355e+01</td>\n",
              "      <td>2.895560e+00</td>\n",
              "      <td>2.101010e+10</td>\n",
              "      <td>2.101010e+10</td>\n",
              "      <td>1.000000</td>\n",
              "      <td>1.234570e+08</td>\n",
              "      <td>0.000000e+00</td>\n",
              "      <td>NaN</td>\n",
              "      <td>NaN</td>\n",
              "      <td>0.0</td>\n",
              "      <td>0.000000</td>\n",
              "      <td>6.000000</td>\n",
              "      <td>6.000000</td>\n",
              "      <td>5.000000</td>\n",
              "      <td>1.000000</td>\n",
              "      <td>0.000000</td>\n",
              "      <td>1.0</td>\n",
              "      <td>0.000000</td>\n",
              "      <td>2.895560e+00</td>\n",
              "      <td>2.932355e+01</td>\n",
              "      <td>1.0</td>\n",
              "      <td>NaN</td>\n",
              "      <td>6.000000</td>\n",
              "    </tr>\n",
              "    <tr>\n",
              "      <th>25%</th>\n",
              "      <td>484.250000</td>\n",
              "      <td>8.900697e+01</td>\n",
              "      <td>2.393569e+01</td>\n",
              "      <td>2.102021e+10</td>\n",
              "      <td>2.101020e+10</td>\n",
              "      <td>4.000000</td>\n",
              "      <td>3.271167e+09</td>\n",
              "      <td>1.627903e+09</td>\n",
              "      <td>NaN</td>\n",
              "      <td>NaN</td>\n",
              "      <td>0.0</td>\n",
              "      <td>0.810000</td>\n",
              "      <td>6.000000</td>\n",
              "      <td>8.000000</td>\n",
              "      <td>19.250000</td>\n",
              "      <td>5.000000</td>\n",
              "      <td>1.000000</td>\n",
              "      <td>1.0</td>\n",
              "      <td>1.000000</td>\n",
              "      <td>2.393569e+01</td>\n",
              "      <td>8.900697e+01</td>\n",
              "      <td>1.0</td>\n",
              "      <td>NaN</td>\n",
              "      <td>6.000000</td>\n",
              "    </tr>\n",
              "    <tr>\n",
              "      <th>50%</th>\n",
              "      <td>681.000000</td>\n",
              "      <td>8.933306e+01</td>\n",
              "      <td>2.516780e+01</td>\n",
              "      <td>2.103010e+10</td>\n",
              "      <td>2.102011e+10</td>\n",
              "      <td>9.000000</td>\n",
              "      <td>5.973156e+09</td>\n",
              "      <td>1.739849e+09</td>\n",
              "      <td>NaN</td>\n",
              "      <td>NaN</td>\n",
              "      <td>0.0</td>\n",
              "      <td>1.350000</td>\n",
              "      <td>7.000000</td>\n",
              "      <td>12.000000</td>\n",
              "      <td>91.000000</td>\n",
              "      <td>14.000000</td>\n",
              "      <td>1.000000</td>\n",
              "      <td>1.0</td>\n",
              "      <td>1.000000</td>\n",
              "      <td>2.516780e+01</td>\n",
              "      <td>8.933306e+01</td>\n",
              "      <td>1.0</td>\n",
              "      <td>NaN</td>\n",
              "      <td>6.000000</td>\n",
              "    </tr>\n",
              "    <tr>\n",
              "      <th>75%</th>\n",
              "      <td>903.500000</td>\n",
              "      <td>8.938240e+01</td>\n",
              "      <td>2.589555e+01</td>\n",
              "      <td>2.104011e+10</td>\n",
              "      <td>2.103020e+10</td>\n",
              "      <td>20.000000</td>\n",
              "      <td>8.666263e+09</td>\n",
              "      <td>1.774221e+09</td>\n",
              "      <td>NaN</td>\n",
              "      <td>NaN</td>\n",
              "      <td>0.0</td>\n",
              "      <td>2.000000</td>\n",
              "      <td>9.000000</td>\n",
              "      <td>13.000000</td>\n",
              "      <td>100.000000</td>\n",
              "      <td>40.000000</td>\n",
              "      <td>1.000000</td>\n",
              "      <td>1.0</td>\n",
              "      <td>1.000000</td>\n",
              "      <td>2.589555e+01</td>\n",
              "      <td>8.938240e+01</td>\n",
              "      <td>1.0</td>\n",
              "      <td>NaN</td>\n",
              "      <td>9.000000</td>\n",
              "    </tr>\n",
              "    <tr>\n",
              "      <th>max</th>\n",
              "      <td>1258.000000</td>\n",
              "      <td>8.933882e+06</td>\n",
              "      <td>8.225876e+07</td>\n",
              "      <td>1.000000e+12</td>\n",
              "      <td>2.104011e+10</td>\n",
              "      <td>79.000000</td>\n",
              "      <td>1.998500e+16</td>\n",
              "      <td>1.910277e+10</td>\n",
              "      <td>NaN</td>\n",
              "      <td>NaN</td>\n",
              "      <td>0.0</td>\n",
              "      <td>200.000000</td>\n",
              "      <td>15.000000</td>\n",
              "      <td>19.000000</td>\n",
              "      <td>190.000000</td>\n",
              "      <td>323.000000</td>\n",
              "      <td>1.000000</td>\n",
              "      <td>1.0</td>\n",
              "      <td>50.000000</td>\n",
              "      <td>8.225876e+07</td>\n",
              "      <td>8.933882e+06</td>\n",
              "      <td>1.0</td>\n",
              "      <td>NaN</td>\n",
              "      <td>12.000000</td>\n",
              "    </tr>\n",
              "  </tbody>\n",
              "</table>\n",
              "</div>"
            ],
            "text/plain": [
              "                id          long  ...  refercence  last_edited_by\n",
              "count   686.000000  6.860000e+02  ...         0.0      290.000000\n",
              "mean    656.361516  2.609210e+04  ...         NaN        7.462069\n",
              "std     293.983530  4.812304e+05  ...         NaN        1.954573\n",
              "min       1.000000  2.932355e+01  ...         NaN        6.000000\n",
              "25%     484.250000  8.900697e+01  ...         NaN        6.000000\n",
              "50%     681.000000  8.933306e+01  ...         NaN        6.000000\n",
              "75%     903.500000  8.938240e+01  ...         NaN        9.000000\n",
              "max    1258.000000  8.933882e+06  ...         NaN       12.000000\n",
              "\n",
              "[8 rows x 24 columns]"
            ]
          },
          "metadata": {
            "tags": []
          },
          "execution_count": 6
        }
      ]
    },
    {
      "cell_type": "code",
      "metadata": {
        "id": "yAg_NW_IGx88"
      },
      "source": [
        "df = pd.read_csv('/content/drive/MyDrive/Agrotrace/farmers_basic_data.csv', usecols= ['id', 'long','lat','registration_no','number','name','father','mother','gender','blood_group','remove','ownland','date_of_entry','education','area_id','extension_center_id','old_number','marital_status','has_contract_with_other_companies','other_companies_info','registered_acr','reg_type','last_edited_by'], low_memory= False)"
      ],
      "execution_count": null,
      "outputs": []
    },
    {
      "cell_type": "code",
      "metadata": {
        "colab": {
          "base_uri": "https://localhost:8080/",
          "height": 391
        },
        "id": "XZGhjIFwKIvI",
        "outputId": "6fdc577a-4561-49b4-ef7f-a7b7277476b7"
      },
      "source": [
        "df.head()\n"
      ],
      "execution_count": null,
      "outputs": [
        {
          "output_type": "execute_result",
          "data": {
            "text/html": [
              "<div>\n",
              "<style scoped>\n",
              "    .dataframe tbody tr th:only-of-type {\n",
              "        vertical-align: middle;\n",
              "    }\n",
              "\n",
              "    .dataframe tbody tr th {\n",
              "        vertical-align: top;\n",
              "    }\n",
              "\n",
              "    .dataframe thead th {\n",
              "        text-align: right;\n",
              "    }\n",
              "</style>\n",
              "<table border=\"1\" class=\"dataframe\">\n",
              "  <thead>\n",
              "    <tr style=\"text-align: right;\">\n",
              "      <th></th>\n",
              "      <th>id</th>\n",
              "      <th>long</th>\n",
              "      <th>lat</th>\n",
              "      <th>registration_no</th>\n",
              "      <th>number</th>\n",
              "      <th>name</th>\n",
              "      <th>father</th>\n",
              "      <th>mother</th>\n",
              "      <th>gender</th>\n",
              "      <th>blood_group</th>\n",
              "      <th>remove</th>\n",
              "      <th>ownland</th>\n",
              "      <th>date_of_entry</th>\n",
              "      <th>education</th>\n",
              "      <th>area_id</th>\n",
              "      <th>extension_center_id</th>\n",
              "      <th>old_number</th>\n",
              "      <th>marital_status</th>\n",
              "      <th>has_contract_with_other_companies</th>\n",
              "      <th>other_companies_info</th>\n",
              "      <th>registered_acr</th>\n",
              "      <th>reg_type</th>\n",
              "      <th>last_edited_by</th>\n",
              "    </tr>\n",
              "  </thead>\n",
              "  <tbody>\n",
              "    <tr>\n",
              "      <th>0</th>\n",
              "      <td>1</td>\n",
              "      <td>89.38900</td>\n",
              "      <td>25.93488</td>\n",
              "      <td>21010301026</td>\n",
              "      <td>26</td>\n",
              "      <td>Abinash Chandra Roy</td>\n",
              "      <td>Sushil Chandra Roy</td>\n",
              "      <td>Monti Bala</td>\n",
              "      <td>Male</td>\n",
              "      <td>B+</td>\n",
              "      <td>0</td>\n",
              "      <td>3.50</td>\n",
              "      <td>12/28/2020</td>\n",
              "      <td>5</td>\n",
              "      <td>6</td>\n",
              "      <td>17</td>\n",
              "      <td>1.0</td>\n",
              "      <td>1.0</td>\n",
              "      <td>NaN</td>\n",
              "      <td>NaN</td>\n",
              "      <td>NaN</td>\n",
              "      <td>1</td>\n",
              "      <td>NaN</td>\n",
              "    </tr>\n",
              "    <tr>\n",
              "      <th>1</th>\n",
              "      <td>2</td>\n",
              "      <td>89.39408</td>\n",
              "      <td>25.93322</td>\n",
              "      <td>21010301001</td>\n",
              "      <td>1</td>\n",
              "      <td>Ramen Chandra Ray</td>\n",
              "      <td>Late Sarbanando Ray</td>\n",
              "      <td>Giri Bala</td>\n",
              "      <td>Male</td>\n",
              "      <td>A+</td>\n",
              "      <td>0</td>\n",
              "      <td>2.00</td>\n",
              "      <td>12/28/2020</td>\n",
              "      <td>8</td>\n",
              "      <td>6</td>\n",
              "      <td>17</td>\n",
              "      <td>2.0</td>\n",
              "      <td>1.0</td>\n",
              "      <td>NaN</td>\n",
              "      <td>NaN</td>\n",
              "      <td>NaN</td>\n",
              "      <td>1</td>\n",
              "      <td>NaN</td>\n",
              "    </tr>\n",
              "    <tr>\n",
              "      <th>2</th>\n",
              "      <td>4</td>\n",
              "      <td>89.39209</td>\n",
              "      <td>25.93412</td>\n",
              "      <td>21010301002</td>\n",
              "      <td>2</td>\n",
              "      <td>Ranzid Kumar Roy</td>\n",
              "      <td>Naresh Chandra Roy</td>\n",
              "      <td>Sorobala</td>\n",
              "      <td>Male</td>\n",
              "      <td>NaN</td>\n",
              "      <td>0</td>\n",
              "      <td>0.54</td>\n",
              "      <td>12/28/2020</td>\n",
              "      <td>1</td>\n",
              "      <td>6</td>\n",
              "      <td>17</td>\n",
              "      <td>4.0</td>\n",
              "      <td>NaN</td>\n",
              "      <td>NaN</td>\n",
              "      <td>NaN</td>\n",
              "      <td>NaN</td>\n",
              "      <td>1</td>\n",
              "      <td>NaN</td>\n",
              "    </tr>\n",
              "    <tr>\n",
              "      <th>3</th>\n",
              "      <td>5</td>\n",
              "      <td>89.38958</td>\n",
              "      <td>25.93684</td>\n",
              "      <td>21010301003</td>\n",
              "      <td>3</td>\n",
              "      <td>Md. Malek Mia</td>\n",
              "      <td>Md. Fazal Uddin</td>\n",
              "      <td>Most.Amema Khatun</td>\n",
              "      <td>Male</td>\n",
              "      <td>NaN</td>\n",
              "      <td>0</td>\n",
              "      <td>1.35</td>\n",
              "      <td>12/28/2020</td>\n",
              "      <td>1</td>\n",
              "      <td>6</td>\n",
              "      <td>17</td>\n",
              "      <td>5.0</td>\n",
              "      <td>1.0</td>\n",
              "      <td>NaN</td>\n",
              "      <td>NaN</td>\n",
              "      <td>NaN</td>\n",
              "      <td>1</td>\n",
              "      <td>NaN</td>\n",
              "    </tr>\n",
              "    <tr>\n",
              "      <th>4</th>\n",
              "      <td>8</td>\n",
              "      <td>89.38924</td>\n",
              "      <td>25.93956</td>\n",
              "      <td>21010301005</td>\n",
              "      <td>5</td>\n",
              "      <td>Roton Kumar Roy</td>\n",
              "      <td>Chandradhor Roy</td>\n",
              "      <td>Modhurani Bormon</td>\n",
              "      <td>Male</td>\n",
              "      <td>NaN</td>\n",
              "      <td>0</td>\n",
              "      <td>1.00</td>\n",
              "      <td>12/28/2020</td>\n",
              "      <td>S.S.C</td>\n",
              "      <td>6</td>\n",
              "      <td>17</td>\n",
              "      <td>8.0</td>\n",
              "      <td>1.0</td>\n",
              "      <td>NaN</td>\n",
              "      <td>NaN</td>\n",
              "      <td>NaN</td>\n",
              "      <td>1</td>\n",
              "      <td>NaN</td>\n",
              "    </tr>\n",
              "  </tbody>\n",
              "</table>\n",
              "</div>"
            ],
            "text/plain": [
              "   id      long       lat  ...  registered_acr  reg_type last_edited_by\n",
              "0   1  89.38900  25.93488  ...             NaN         1            NaN\n",
              "1   2  89.39408  25.93322  ...             NaN         1            NaN\n",
              "2   4  89.39209  25.93412  ...             NaN         1            NaN\n",
              "3   5  89.38958  25.93684  ...             NaN         1            NaN\n",
              "4   8  89.38924  25.93956  ...             NaN         1            NaN\n",
              "\n",
              "[5 rows x 23 columns]"
            ]
          },
          "metadata": {
            "tags": []
          },
          "execution_count": 8
        }
      ]
    },
    {
      "cell_type": "code",
      "metadata": {
        "colab": {
          "base_uri": "https://localhost:8080/",
          "height": 315
        },
        "id": "ElsYQfAKKIxk",
        "outputId": "154a934f-bbb4-49d6-a6e3-b008db1c21dc"
      },
      "source": [
        "df.describe()"
      ],
      "execution_count": null,
      "outputs": [
        {
          "output_type": "execute_result",
          "data": {
            "text/html": [
              "<div>\n",
              "<style scoped>\n",
              "    .dataframe tbody tr th:only-of-type {\n",
              "        vertical-align: middle;\n",
              "    }\n",
              "\n",
              "    .dataframe tbody tr th {\n",
              "        vertical-align: top;\n",
              "    }\n",
              "\n",
              "    .dataframe thead th {\n",
              "        text-align: right;\n",
              "    }\n",
              "</style>\n",
              "<table border=\"1\" class=\"dataframe\">\n",
              "  <thead>\n",
              "    <tr style=\"text-align: right;\">\n",
              "      <th></th>\n",
              "      <th>id</th>\n",
              "      <th>long</th>\n",
              "      <th>lat</th>\n",
              "      <th>registration_no</th>\n",
              "      <th>number</th>\n",
              "      <th>remove</th>\n",
              "      <th>ownland</th>\n",
              "      <th>area_id</th>\n",
              "      <th>extension_center_id</th>\n",
              "      <th>old_number</th>\n",
              "      <th>marital_status</th>\n",
              "      <th>has_contract_with_other_companies</th>\n",
              "      <th>registered_acr</th>\n",
              "      <th>reg_type</th>\n",
              "      <th>last_edited_by</th>\n",
              "    </tr>\n",
              "  </thead>\n",
              "  <tbody>\n",
              "    <tr>\n",
              "      <th>count</th>\n",
              "      <td>686.000000</td>\n",
              "      <td>6.860000e+02</td>\n",
              "      <td>6.860000e+02</td>\n",
              "      <td>6.860000e+02</td>\n",
              "      <td>686.000000</td>\n",
              "      <td>686.0</td>\n",
              "      <td>686.000000</td>\n",
              "      <td>686.000000</td>\n",
              "      <td>686.000000</td>\n",
              "      <td>451.000000</td>\n",
              "      <td>656.000000</td>\n",
              "      <td>46.0</td>\n",
              "      <td>370.000000</td>\n",
              "      <td>686.0</td>\n",
              "      <td>290.000000</td>\n",
              "    </tr>\n",
              "    <tr>\n",
              "      <th>mean</th>\n",
              "      <td>656.361516</td>\n",
              "      <td>2.609210e+04</td>\n",
              "      <td>1.237156e+05</td>\n",
              "      <td>2.102119e+10</td>\n",
              "      <td>14.418367</td>\n",
              "      <td>0.0</td>\n",
              "      <td>2.196822</td>\n",
              "      <td>7.887755</td>\n",
              "      <td>11.224490</td>\n",
              "      <td>69.161863</td>\n",
              "      <td>0.972561</td>\n",
              "      <td>1.0</td>\n",
              "      <td>1.330595</td>\n",
              "      <td>1.0</td>\n",
              "      <td>7.462069</td>\n",
              "    </tr>\n",
              "    <tr>\n",
              "      <th>std</th>\n",
              "      <td>293.983530</td>\n",
              "      <td>4.812304e+05</td>\n",
              "      <td>3.142069e+06</td>\n",
              "      <td>1.047595e+07</td>\n",
              "      <td>14.940316</td>\n",
              "      <td>0.0</td>\n",
              "      <td>9.336709</td>\n",
              "      <td>2.279825</td>\n",
              "      <td>3.957701</td>\n",
              "      <td>114.026558</td>\n",
              "      <td>0.163484</td>\n",
              "      <td>0.0</td>\n",
              "      <td>3.652055</td>\n",
              "      <td>0.0</td>\n",
              "      <td>1.954573</td>\n",
              "    </tr>\n",
              "    <tr>\n",
              "      <th>min</th>\n",
              "      <td>1.000000</td>\n",
              "      <td>2.932355e+01</td>\n",
              "      <td>2.895560e+00</td>\n",
              "      <td>2.101010e+10</td>\n",
              "      <td>1.000000</td>\n",
              "      <td>0.0</td>\n",
              "      <td>0.000000</td>\n",
              "      <td>6.000000</td>\n",
              "      <td>6.000000</td>\n",
              "      <td>1.000000</td>\n",
              "      <td>0.000000</td>\n",
              "      <td>1.0</td>\n",
              "      <td>0.000000</td>\n",
              "      <td>1.0</td>\n",
              "      <td>6.000000</td>\n",
              "    </tr>\n",
              "    <tr>\n",
              "      <th>25%</th>\n",
              "      <td>484.250000</td>\n",
              "      <td>8.900697e+01</td>\n",
              "      <td>2.393569e+01</td>\n",
              "      <td>2.101020e+10</td>\n",
              "      <td>4.000000</td>\n",
              "      <td>0.0</td>\n",
              "      <td>0.810000</td>\n",
              "      <td>6.000000</td>\n",
              "      <td>8.000000</td>\n",
              "      <td>5.000000</td>\n",
              "      <td>1.000000</td>\n",
              "      <td>1.0</td>\n",
              "      <td>1.000000</td>\n",
              "      <td>1.0</td>\n",
              "      <td>6.000000</td>\n",
              "    </tr>\n",
              "    <tr>\n",
              "      <th>50%</th>\n",
              "      <td>681.000000</td>\n",
              "      <td>8.933306e+01</td>\n",
              "      <td>2.516780e+01</td>\n",
              "      <td>2.102011e+10</td>\n",
              "      <td>9.000000</td>\n",
              "      <td>0.0</td>\n",
              "      <td>1.350000</td>\n",
              "      <td>7.000000</td>\n",
              "      <td>12.000000</td>\n",
              "      <td>14.000000</td>\n",
              "      <td>1.000000</td>\n",
              "      <td>1.0</td>\n",
              "      <td>1.000000</td>\n",
              "      <td>1.0</td>\n",
              "      <td>6.000000</td>\n",
              "    </tr>\n",
              "    <tr>\n",
              "      <th>75%</th>\n",
              "      <td>903.500000</td>\n",
              "      <td>8.938240e+01</td>\n",
              "      <td>2.589555e+01</td>\n",
              "      <td>2.103020e+10</td>\n",
              "      <td>20.000000</td>\n",
              "      <td>0.0</td>\n",
              "      <td>2.000000</td>\n",
              "      <td>9.000000</td>\n",
              "      <td>13.000000</td>\n",
              "      <td>40.000000</td>\n",
              "      <td>1.000000</td>\n",
              "      <td>1.0</td>\n",
              "      <td>1.000000</td>\n",
              "      <td>1.0</td>\n",
              "      <td>9.000000</td>\n",
              "    </tr>\n",
              "    <tr>\n",
              "      <th>max</th>\n",
              "      <td>1258.000000</td>\n",
              "      <td>8.933882e+06</td>\n",
              "      <td>8.225876e+07</td>\n",
              "      <td>2.104011e+10</td>\n",
              "      <td>79.000000</td>\n",
              "      <td>0.0</td>\n",
              "      <td>200.000000</td>\n",
              "      <td>15.000000</td>\n",
              "      <td>19.000000</td>\n",
              "      <td>323.000000</td>\n",
              "      <td>1.000000</td>\n",
              "      <td>1.0</td>\n",
              "      <td>50.000000</td>\n",
              "      <td>1.0</td>\n",
              "      <td>12.000000</td>\n",
              "    </tr>\n",
              "  </tbody>\n",
              "</table>\n",
              "</div>"
            ],
            "text/plain": [
              "                id          long  ...  reg_type  last_edited_by\n",
              "count   686.000000  6.860000e+02  ...     686.0      290.000000\n",
              "mean    656.361516  2.609210e+04  ...       1.0        7.462069\n",
              "std     293.983530  4.812304e+05  ...       0.0        1.954573\n",
              "min       1.000000  2.932355e+01  ...       1.0        6.000000\n",
              "25%     484.250000  8.900697e+01  ...       1.0        6.000000\n",
              "50%     681.000000  8.933306e+01  ...       1.0        6.000000\n",
              "75%     903.500000  8.938240e+01  ...       1.0        9.000000\n",
              "max    1258.000000  8.933882e+06  ...       1.0       12.000000\n",
              "\n",
              "[8 rows x 15 columns]"
            ]
          },
          "metadata": {
            "tags": []
          },
          "execution_count": 9
        }
      ]
    },
    {
      "cell_type": "code",
      "metadata": {
        "id": "Az6zupZdKI0l"
      },
      "source": [
        "show = df.describe()"
      ],
      "execution_count": null,
      "outputs": []
    },
    {
      "cell_type": "code",
      "metadata": {
        "colab": {
          "base_uri": "https://localhost:8080/"
        },
        "id": "N5TTpw5CKI7O",
        "outputId": "cb610b6f-14d3-4a17-c58e-24e94e32fa29"
      },
      "source": [
        "print(show)"
      ],
      "execution_count": null,
      "outputs": [
        {
          "output_type": "stream",
          "text": [
            "                id          long  ...  reg_type  last_edited_by\n",
            "count   686.000000  6.860000e+02  ...     686.0      290.000000\n",
            "mean    656.361516  2.609210e+04  ...       1.0        7.462069\n",
            "std     293.983530  4.812304e+05  ...       0.0        1.954573\n",
            "min       1.000000  2.932355e+01  ...       1.0        6.000000\n",
            "25%     484.250000  8.900697e+01  ...       1.0        6.000000\n",
            "50%     681.000000  8.933306e+01  ...       1.0        6.000000\n",
            "75%     903.500000  8.938240e+01  ...       1.0        9.000000\n",
            "max    1258.000000  8.933882e+06  ...       1.0       12.000000\n",
            "\n",
            "[8 rows x 15 columns]\n"
          ],
          "name": "stdout"
        }
      ]
    },
    {
      "cell_type": "code",
      "metadata": {
        "colab": {
          "base_uri": "https://localhost:8080/"
        },
        "id": "_MnHfmtMKqEX",
        "outputId": "9d091048-bc6e-4f01-8d09-a48e61e1a379"
      },
      "source": [
        "df.shape"
      ],
      "execution_count": null,
      "outputs": [
        {
          "output_type": "execute_result",
          "data": {
            "text/plain": [
              "(686, 23)"
            ]
          },
          "metadata": {
            "tags": []
          },
          "execution_count": 12
        }
      ]
    },
    {
      "cell_type": "code",
      "metadata": {
        "colab": {
          "base_uri": "https://localhost:8080/"
        },
        "id": "VgObX8J2KqHD",
        "outputId": "01313109-d22f-4cd1-e5b9-16c2ed60011e"
      },
      "source": [
        "for index, row in df.iterrows():\n",
        "    print(row)\n",
        "    if index == 5:\n",
        "        break"
      ],
      "execution_count": null,
      "outputs": [
        {
          "output_type": "stream",
          "text": [
            "id                                                     1\n",
            "long                                              89.389\n",
            "lat                                              25.9349\n",
            "registration_no                              21010301026\n",
            "number                                                26\n",
            "name                                 Abinash Chandra Roy\n",
            "father                                Sushil Chandra Roy\n",
            "mother                                        Monti Bala\n",
            "gender                                              Male\n",
            "blood_group                                           B+\n",
            "remove                                                 0\n",
            "ownland                                              3.5\n",
            "date_of_entry                                 12/28/2020\n",
            "education                                              5\n",
            "area_id                                                6\n",
            "extension_center_id                                   17\n",
            "old_number                                             1\n",
            "marital_status                                         1\n",
            "has_contract_with_other_companies                    NaN\n",
            "other_companies_info                                 NaN\n",
            "registered_acr                                       NaN\n",
            "reg_type                                               1\n",
            "last_edited_by                                       NaN\n",
            "Name: 0, dtype: object\n",
            "id                                                     2\n",
            "long                                             89.3941\n",
            "lat                                              25.9332\n",
            "registration_no                              21010301001\n",
            "number                                                 1\n",
            "name                                   Ramen Chandra Ray\n",
            "father                               Late Sarbanando Ray\n",
            "mother                                         Giri Bala\n",
            "gender                                              Male\n",
            "blood_group                                           A+\n",
            "remove                                                 0\n",
            "ownland                                                2\n",
            "date_of_entry                                 12/28/2020\n",
            "education                                              8\n",
            "area_id                                                6\n",
            "extension_center_id                                   17\n",
            "old_number                                             2\n",
            "marital_status                                         1\n",
            "has_contract_with_other_companies                    NaN\n",
            "other_companies_info                                 NaN\n",
            "registered_acr                                       NaN\n",
            "reg_type                                               1\n",
            "last_edited_by                                       NaN\n",
            "Name: 1, dtype: object\n",
            "id                                                    4\n",
            "long                                            89.3921\n",
            "lat                                             25.9341\n",
            "registration_no                             21010301002\n",
            "number                                                2\n",
            "name                                   Ranzid Kumar Roy\n",
            "father                               Naresh Chandra Roy\n",
            "mother                                         Sorobala\n",
            "gender                                             Male\n",
            "blood_group                                         NaN\n",
            "remove                                                0\n",
            "ownland                                            0.54\n",
            "date_of_entry                                12/28/2020\n",
            "education                                             1\n",
            "area_id                                               6\n",
            "extension_center_id                                  17\n",
            "old_number                                            4\n",
            "marital_status                                      NaN\n",
            "has_contract_with_other_companies                   NaN\n",
            "other_companies_info                                NaN\n",
            "registered_acr                                      NaN\n",
            "reg_type                                              1\n",
            "last_edited_by                                      NaN\n",
            "Name: 2, dtype: object\n",
            "id                                                   5\n",
            "long                                           89.3896\n",
            "lat                                            25.9368\n",
            "registration_no                            21010301003\n",
            "number                                               3\n",
            "name                                     Md. Malek Mia\n",
            "father                                 Md. Fazal Uddin\n",
            "mother                               Most.Amema Khatun\n",
            "gender                                            Male\n",
            "blood_group                                        NaN\n",
            "remove                                               0\n",
            "ownland                                           1.35\n",
            "date_of_entry                               12/28/2020\n",
            "education                                            1\n",
            "area_id                                              6\n",
            "extension_center_id                                 17\n",
            "old_number                                           5\n",
            "marital_status                                       1\n",
            "has_contract_with_other_companies                  NaN\n",
            "other_companies_info                               NaN\n",
            "registered_acr                                     NaN\n",
            "reg_type                                             1\n",
            "last_edited_by                                     NaN\n",
            "Name: 3, dtype: object\n",
            "id                                                  8\n",
            "long                                          89.3892\n",
            "lat                                           25.9396\n",
            "registration_no                           21010301005\n",
            "number                                              5\n",
            "name                                  Roton Kumar Roy\n",
            "father                                Chandradhor Roy\n",
            "mother                               Modhurani Bormon\n",
            "gender                                           Male\n",
            "blood_group                                       NaN\n",
            "remove                                              0\n",
            "ownland                                             1\n",
            "date_of_entry                              12/28/2020\n",
            "education                                       S.S.C\n",
            "area_id                                             6\n",
            "extension_center_id                                17\n",
            "old_number                                          8\n",
            "marital_status                                      1\n",
            "has_contract_with_other_companies                 NaN\n",
            "other_companies_info                              NaN\n",
            "registered_acr                                    NaN\n",
            "reg_type                                            1\n",
            "last_edited_by                                    NaN\n",
            "Name: 4, dtype: object\n",
            "id                                                       9\n",
            "long                                               89.3907\n",
            "lat                                                25.9377\n",
            "registration_no                                21010301006\n",
            "number                                                   6\n",
            "name                                 Md. Abdur Sahid Islam\n",
            "father                                        Sharif Uddin\n",
            "mother                                        Mos.Rup Bahn\n",
            "gender                                                Male\n",
            "blood_group                                             B+\n",
            "remove                                                   0\n",
            "ownland                                               1.35\n",
            "date_of_entry                                   12/28/2020\n",
            "education                                                1\n",
            "area_id                                                  6\n",
            "extension_center_id                                     17\n",
            "old_number                                               9\n",
            "marital_status                                           1\n",
            "has_contract_with_other_companies                      NaN\n",
            "other_companies_info                                   NaN\n",
            "registered_acr                                         NaN\n",
            "reg_type                                                 1\n",
            "last_edited_by                                         NaN\n",
            "Name: 5, dtype: object\n"
          ],
          "name": "stdout"
        }
      ]
    },
    {
      "cell_type": "code",
      "metadata": {
        "colab": {
          "base_uri": "https://localhost:8080/",
          "height": 352
        },
        "id": "dU-nGDEQKqKm",
        "outputId": "b633bf04-5894-4566-f86b-19e2026fc1ed"
      },
      "source": [
        "import seaborn as sns\n",
        "sns.countplot(df['ownland'])"
      ],
      "execution_count": null,
      "outputs": [
        {
          "output_type": "stream",
          "text": [
            "/usr/local/lib/python3.7/dist-packages/seaborn/_decorators.py:43: FutureWarning: Pass the following variable as a keyword arg: x. From version 0.12, the only valid positional argument will be `data`, and passing other arguments without an explicit keyword will result in an error or misinterpretation.\n",
            "  FutureWarning\n"
          ],
          "name": "stderr"
        },
        {
          "output_type": "execute_result",
          "data": {
            "text/plain": [
              "<matplotlib.axes._subplots.AxesSubplot at 0x7fc40aaa45d0>"
            ]
          },
          "metadata": {
            "tags": []
          },
          "execution_count": 14
        },
        {
          "output_type": "display_data",
          "data": {
            "image/png": "[encoded data removed]",
            "text/plain": [
              "<Figure size 432x288 with 1 Axes>"
            ]
          },
          "metadata": {
            "tags": []
          }
        }
      ]
    },
    {
      "cell_type": "code",
      "metadata": {
        "colab": {
          "base_uri": "https://localhost:8080/",
          "height": 1000
        },
        "id": "ROnEWLhxkshm",
        "outputId": "7c35a582-3bdc-4dfb-e408-68d63106b9f5"
      },
      "source": [
        "import seaborn as sns\n",
        "sns.swarmplot(y = df['registration_no'], x = df['ownland'])"
      ],
      "execution_count": null,
      "outputs": [
        {
          "output_type": "stream",
          "text": [
            "/usr/local/lib/python3.7/dist-packages/seaborn/categorical.py:1296: UserWarning: 86.2% of the points cannot be placed; you may want to decrease the size of the markers or use stripplot.\n",
            "  warnings.warn(msg, UserWarning)\n",
            "/usr/local/lib/python3.7/dist-packages/seaborn/categorical.py:1296: UserWarning: 50.0% of the points cannot be placed; you may want to decrease the size of the markers or use stripplot.\n",
            "  warnings.warn(msg, UserWarning)\n",
            "/usr/local/lib/python3.7/dist-packages/seaborn/categorical.py:1296: UserWarning: 33.3% of the points cannot be placed; you may want to decrease the size of the markers or use stripplot.\n",
            "  warnings.warn(msg, UserWarning)\n",
            "/usr/local/lib/python3.7/dist-packages/seaborn/categorical.py:1296: UserWarning: 75.0% of the points cannot be placed; you may want to decrease the size of the markers or use stripplot.\n",
            "  warnings.warn(msg, UserWarning)\n",
            "/usr/local/lib/python3.7/dist-packages/seaborn/categorical.py:1296: UserWarning: 83.3% of the points cannot be placed; you may want to decrease the size of the markers or use stripplot.\n",
            "  warnings.warn(msg, UserWarning)\n",
            "/usr/local/lib/python3.7/dist-packages/seaborn/categorical.py:1296: UserWarning: 82.4% of the points cannot be placed; you may want to decrease the size of the markers or use stripplot.\n",
            "  warnings.warn(msg, UserWarning)\n",
            "/usr/local/lib/python3.7/dist-packages/seaborn/categorical.py:1296: UserWarning: 93.8% of the points cannot be placed; you may want to decrease the size of the markers or use stripplot.\n",
            "  warnings.warn(msg, UserWarning)\n",
            "/usr/local/lib/python3.7/dist-packages/seaborn/categorical.py:1296: UserWarning: 66.7% of the points cannot be placed; you may want to decrease the size of the markers or use stripplot.\n",
            "  warnings.warn(msg, UserWarning)\n",
            "/usr/local/lib/python3.7/dist-packages/seaborn/categorical.py:1296: UserWarning: 72.7% of the points cannot be placed; you may want to decrease the size of the markers or use stripplot.\n",
            "  warnings.warn(msg, UserWarning)\n",
            "/usr/local/lib/python3.7/dist-packages/seaborn/categorical.py:1296: UserWarning: 25.0% of the points cannot be placed; you may want to decrease the size of the markers or use stripplot.\n",
            "  warnings.warn(msg, UserWarning)\n",
            "/usr/local/lib/python3.7/dist-packages/seaborn/categorical.py:1296: UserWarning: 90.9% of the points cannot be placed; you may want to decrease the size of the markers or use stripplot.\n",
            "  warnings.warn(msg, UserWarning)\n",
            "/usr/local/lib/python3.7/dist-packages/seaborn/categorical.py:1296: UserWarning: 95.2% of the points cannot be placed; you may want to decrease the size of the markers or use stripplot.\n",
            "  warnings.warn(msg, UserWarning)\n",
            "/usr/local/lib/python3.7/dist-packages/seaborn/categorical.py:1296: UserWarning: 94.1% of the points cannot be placed; you may want to decrease the size of the markers or use stripplot.\n",
            "  warnings.warn(msg, UserWarning)\n",
            "/usr/local/lib/python3.7/dist-packages/seaborn/categorical.py:1296: UserWarning: 71.4% of the points cannot be placed; you may want to decrease the size of the markers or use stripplot.\n",
            "  warnings.warn(msg, UserWarning)\n",
            "/usr/local/lib/python3.7/dist-packages/seaborn/categorical.py:1296: UserWarning: 95.7% of the points cannot be placed; you may want to decrease the size of the markers or use stripplot.\n",
            "  warnings.warn(msg, UserWarning)\n",
            "/usr/local/lib/python3.7/dist-packages/seaborn/categorical.py:1296: UserWarning: 95.5% of the points cannot be placed; you may want to decrease the size of the markers or use stripplot.\n",
            "  warnings.warn(msg, UserWarning)\n",
            "/usr/local/lib/python3.7/dist-packages/seaborn/categorical.py:1296: UserWarning: 89.2% of the points cannot be placed; you may want to decrease the size of the markers or use stripplot.\n",
            "  warnings.warn(msg, UserWarning)\n",
            "/usr/local/lib/python3.7/dist-packages/seaborn/categorical.py:1296: UserWarning: 87.5% of the points cannot be placed; you may want to decrease the size of the markers or use stripplot.\n",
            "  warnings.warn(msg, UserWarning)\n",
            "/usr/local/lib/python3.7/dist-packages/seaborn/categorical.py:1296: UserWarning: 97.0% of the points cannot be placed; you may want to decrease the size of the markers or use stripplot.\n",
            "  warnings.warn(msg, UserWarning)\n",
            "/usr/local/lib/python3.7/dist-packages/seaborn/categorical.py:1296: UserWarning: 80.0% of the points cannot be placed; you may want to decrease the size of the markers or use stripplot.\n",
            "  warnings.warn(msg, UserWarning)\n",
            "/usr/local/lib/python3.7/dist-packages/seaborn/categorical.py:1296: UserWarning: 60.0% of the points cannot be placed; you may want to decrease the size of the markers or use stripplot.\n",
            "  warnings.warn(msg, UserWarning)\n",
            "/usr/local/lib/python3.7/dist-packages/seaborn/categorical.py:1296: UserWarning: 92.9% of the points cannot be placed; you may want to decrease the size of the markers or use stripplot.\n",
            "  warnings.warn(msg, UserWarning)\n",
            "/usr/local/lib/python3.7/dist-packages/seaborn/categorical.py:1296: UserWarning: 93.3% of the points cannot be placed; you may want to decrease the size of the markers or use stripplot.\n",
            "  warnings.warn(msg, UserWarning)\n",
            "/usr/local/lib/python3.7/dist-packages/seaborn/categorical.py:1296: UserWarning: 81.8% of the points cannot be placed; you may want to decrease the size of the markers or use stripplot.\n",
            "  warnings.warn(msg, UserWarning)\n",
            "/usr/local/lib/python3.7/dist-packages/seaborn/categorical.py:1296: UserWarning: 90.0% of the points cannot be placed; you may want to decrease the size of the markers or use stripplot.\n",
            "  warnings.warn(msg, UserWarning)\n",
            "/usr/local/lib/python3.7/dist-packages/seaborn/categorical.py:1296: UserWarning: 62.5% of the points cannot be placed; you may want to decrease the size of the markers or use stripplot.\n",
            "  warnings.warn(msg, UserWarning)\n"
          ],
          "name": "stderr"
        },
        {
          "output_type": "execute_result",
          "data": {
            "text/plain": [
              "<matplotlib.axes._subplots.AxesSubplot at 0x7fc409e7c690>"
            ]
          },
          "metadata": {
            "tags": []
          },
          "execution_count": 15
        },
        {
          "output_type": "display_data",
          "data": {
            "image/png": "[encoded data removed]",
            "text/plain": [
              "<Figure size 432x288 with 1 Axes>"
            ]
          },
          "metadata": {
            "tags": []
          }
        }
      ]
    },
    {
      "cell_type": "code",
      "metadata": {
        "colab": {
          "base_uri": "https://localhost:8080/",
          "height": 298
        },
        "id": "c9yoRBcwksmk",
        "outputId": "2672d5ef-eaa3-4656-97f2-3cca7fb29549"
      },
      "source": [
        "import seaborn as sns\n",
        "sns.swarmplot(y = df['area_id'], x = df['registration_no'])"
      ],
      "execution_count": null,
      "outputs": [
        {
          "output_type": "execute_result",
          "data": {
            "text/plain": [
              "<matplotlib.axes._subplots.AxesSubplot at 0x7fc4012fb350>"
            ]
          },
          "metadata": {
            "tags": []
          },
          "execution_count": 17
        },
        {
          "output_type": "display_data",
          "data": {
            "image/png": "[encoded data removed]",
            "text/plain": [
              "<Figure size 432x288 with 1 Axes>"
            ]
          },
          "metadata": {
            "tags": []
          }
        }
      ]
    },
    {
      "cell_type": "code",
      "metadata": {
        "colab": {
          "base_uri": "https://localhost:8080/",
          "height": 401
        },
        "id": "5MH3-L-Ukss2",
        "outputId": "841e3255-ef17-4473-c75a-3348e4e732e6"
      },
      "source": [
        "sns.lmplot(x = 'ownland', y = 'registration_no', data = df, hue = 'area_id')"
      ],
      "execution_count": null,
      "outputs": [
        {
          "output_type": "execute_result",
          "data": {
            "text/plain": [
              "<seaborn.axisgrid.FacetGrid at 0x7fc3fc23a150>"
            ]
          },
          "metadata": {
            "tags": []
          },
          "execution_count": 22
        },
        {
          "output_type": "display_data",
          "data": {
            "image/png": "[encoded data removed]",
            "text/plain": [
              "<Figure size 408.75x360 with 1 Axes>"
            ]
          },
          "metadata": {
            "tags": []
          }
        }
      ]
    },
    {
      "cell_type": "code",
      "metadata": {
        "colab": {
          "base_uri": "https://localhost:8080/",
          "height": 308
        },
        "id": "YmtnNvO3obAW",
        "outputId": "8fd66810-5759-4d16-816e-b855ce951338"
      },
      "source": [
        "import seaborn as sns\n",
        "sns.boxplot(y = df['registration_no'], x = df['ownland'])"
      ],
      "execution_count": null,
      "outputs": [
        {
          "output_type": "execute_result",
          "data": {
            "text/plain": [
              "<matplotlib.axes._subplots.AxesSubplot at 0x7fc3f5ddef90>"
            ]
          },
          "metadata": {
            "tags": []
          },
          "execution_count": 26
        },
        {
          "output_type": "display_data",
          "data": {
            "image/png": "[encoded data removed]",
            "text/plain": [
              "<Figure size 432x288 with 1 Axes>"
            ]
          },
          "metadata": {
            "tags": []
          }
        }
      ]
    },
    {
      "cell_type": "code",
      "metadata": {
        "colab": {
          "background_save": true
        },
        "id": "NM7Xq6kGobDu",
        "outputId": "09a4daab-6777-400c-8d5c-cdcd3b2be1fd"
      },
      "source": [
        "import seaborn as sns\n",
        "sns.stripplot(y = df['Age'], x = df['Pclass'])"
      ],
      "execution_count": null,
      "outputs": [
        {
          "output_type": "execute_result",
          "data": {
            "text/plain": [
              "<matplotlib.axes._subplots.AxesSubplot at 0x7fc3f5314250>"
            ]
          },
          "metadata": {
            "tags": []
          },
          "execution_count": 0
        },
        {
          "output_type": "display_data",
          "data": {
            "image/png": "[encoded data removed]",
            "text/plain": [
              "<Figure size 432x288 with 1 Axes>"
            ]
          },
          "metadata": {
            "tags": []
          }
        }
      ]
    },
    {
      "cell_type": "code",
      "metadata": {
        "id": "XbdAXHtiobG1"
      },
      "source": [
        ""
      ],
      "execution_count": null,
      "outputs": []
    },
    {
      "cell_type": "code",
      "metadata": {
        "id": "q9doux1bobJz"
      },
      "source": [
        ""
      ],
      "execution_count": null,
      "outputs": []
    },
    {
      "cell_type": "code",
      "metadata": {
        "id": "UwfbQgL3obMy"
      },
      "source": [
        ""
      ],
      "execution_count": null,
      "outputs": []
    }
  ]
}