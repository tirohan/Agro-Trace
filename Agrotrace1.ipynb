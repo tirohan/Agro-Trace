{
  "nbformat": 4,
  "nbformat_minor": 0,
  "metadata": {
    "colab": {
      "name": "Agrotrace1.ipynb",
      "provenance": []
    },
    "kernelspec": {
      "name": "python3",
      "display_name": "Python 3"
    },
    "language_info": {
      "name": "python"
    }
  },
  "cells": [
    {
      "cell_type": "markdown",
      "metadata": {
        "id": "Bmc0YQxAggYv"
      },
      "source": [
        "## **Mount Drive**"
      ]
    },
    {
      "cell_type": "code",
      "metadata": {
        "colab": {
          "base_uri": "https://localhost:8080/"
        },
        "id": "J5qPh1gJbr2u",
        "outputId": "bb4a7410-f569-48ba-b86e-f417aebd5293"
      },
      "source": [
        "from google.colab import drive\n",
        "drive.mount('/content/drive')"
      ],
      "execution_count": null,
      "outputs": [
        {
          "output_type": "stream",
          "text": [
            "Mounted at /content/drive\n"
          ],
          "name": "stdout"
        }
      ]
    },
    {
      "cell_type": "code",
      "metadata": {
        "colab": {
          "base_uri": "https://localhost:8080/"
        },
        "id": "PrEKPGkVcZGW",
        "outputId": "0fc23967-e689-4713-f21d-da76c1fd15dd"
      },
      "source": [
        "#checking the device property...\n",
        "from tensorflow.python.client import device_lib\n",
        "print(device_lib.list_local_devices())"
      ],
      "execution_count": null,
      "outputs": [
        {
          "output_type": "stream",
          "text": [
            "[name: \"/device:CPU:0\"\n",
            "device_type: \"CPU\"\n",
            "memory_limit: 268435456\n",
            "locality {\n",
            "}\n",
            "incarnation: 17358724345238146853\n",
            "]\n"
          ],
          "name": "stdout"
        }
      ]
    },
    {
      "cell_type": "code",
      "metadata": {
        "id": "fHmj_4KWcZK3"
      },
      "source": [
        "import numpy as np # linear algebra\n",
        "import pandas as pd # data processing, CSV file I/O (e.g. pd.read_csv)\n",
        "import matplotlib.pyplot as plt\n",
        "import matplotlib.patches as mpatches\n",
        "import seaborn as sns\n",
        "%matplotlib inline"
      ],
      "execution_count": null,
      "outputs": []
    },
    {
      "cell_type": "markdown",
      "metadata": {
        "id": "bcxMCrrigyzw"
      },
      "source": [
        "## **Load data**"
      ]
    },
    {
      "cell_type": "code",
      "metadata": {
        "colab": {
          "base_uri": "https://localhost:8080/"
        },
        "id": "mtBpBzczcZIm",
        "outputId": "4609b3a9-8665-4649-a420-a72154cb6910"
      },
      "source": [
        "dataset = pd.read_csv('/content/drive/My Drive/Agrotrace/dataset/dataset.csv')\n",
        "print(dataset.info())\n",
        "\n"
      ],
      "execution_count": null,
      "outputs": [
        {
          "output_type": "stream",
          "text": [
            "<class 'pandas.core.frame.DataFrame'>\n",
            "RangeIndex: 921 entries, 0 to 920\n",
            "Data columns (total 6 columns):\n",
            " #   Column           Non-Null Count  Dtype  \n",
            "---  ------           --------------  -----  \n",
            " 0   Registration No  921 non-null    int64  \n",
            " 1   Type             921 non-null    int64  \n",
            " 2   Area             921 non-null    object \n",
            " 3   Land             921 non-null    float64\n",
            " 4   Total_Weight     770 non-null    object \n",
            " 5   Total_Price      770 non-null    float64\n",
            "dtypes: float64(2), int64(2), object(2)\n",
            "memory usage: 43.3+ KB\n",
            "None\n"
          ],
          "name": "stdout"
        }
      ]
    },
    {
      "cell_type": "markdown",
      "metadata": {
        "id": "ohOUTS-tg5fv"
      },
      "source": [
        "## **Analysis**"
      ]
    },
    {
      "cell_type": "code",
      "metadata": {
        "colab": {
          "base_uri": "https://localhost:8080/"
        },
        "id": "rbzVRDxge7Vf",
        "outputId": "9b4d58dc-0e8e-4f90-9fea-d272955bcc4a"
      },
      "source": [
        "print(dataset)"
      ],
      "execution_count": null,
      "outputs": [
        {
          "output_type": "stream",
          "text": [
            "     Registration No  Type        Area  Land Total_Weight  Total_Price\n",
            "0        21050104006     1  Chattogram  0.00     266 (-2)      27685.0\n",
            "1        21050104005     1  Chattogram  1.00     473 (-0)      59301.0\n",
            "2        21030104020     1     Kushtia  0.00     201 (-0)      27740.0\n",
            "3        21050104004     1  Chattogram  1.00     836 (-0)     120594.0\n",
            "4        21050104003     1  Chattogram  1.00     705 (-0)      93627.0\n",
            "..               ...   ...         ...   ...          ...          ...\n",
            "916      21010301004     2     Rangpur  0.00          NaN          NaN\n",
            "917      21010301003     2     Rangpur  1.35          NaN          NaN\n",
            "918      21010301002     2     Rangpur  0.54          NaN          NaN\n",
            "919      21010301001     2     Rangpur  2.00          NaN          NaN\n",
            "920      21010301026     2     Rangpur  3.50          NaN          NaN\n",
            "\n",
            "[921 rows x 6 columns]\n"
          ],
          "name": "stdout"
        }
      ]
    },
    {
      "cell_type": "code",
      "metadata": {
        "colab": {
          "base_uri": "https://localhost:8080/"
        },
        "id": "5SDln6aOe7X-",
        "outputId": "6a248c07-81cc-4d23-8eb8-c797dd6f1b98"
      },
      "source": [
        "dataset.info()"
      ],
      "execution_count": null,
      "outputs": [
        {
          "output_type": "stream",
          "text": [
            "<class 'pandas.core.frame.DataFrame'>\n",
            "RangeIndex: 921 entries, 0 to 920\n",
            "Data columns (total 6 columns):\n",
            " #   Column           Non-Null Count  Dtype  \n",
            "---  ------           --------------  -----  \n",
            " 0   Registration No  921 non-null    int64  \n",
            " 1   Type             921 non-null    int64  \n",
            " 2   Area             921 non-null    object \n",
            " 3   Land             921 non-null    float64\n",
            " 4   Total_Weight     770 non-null    object \n",
            " 5   Total_Price      770 non-null    float64\n",
            "dtypes: float64(2), int64(2), object(2)\n",
            "memory usage: 43.3+ KB\n"
          ],
          "name": "stdout"
        }
      ]
    },
    {
      "cell_type": "code",
      "metadata": {
        "colab": {
          "base_uri": "https://localhost:8080/",
          "height": 204
        },
        "id": "Qm68h2eEe7aF",
        "outputId": "0324fc3a-ecd9-4a47-b5fc-b1a272e6367e"
      },
      "source": [
        "dataset.head()"
      ],
      "execution_count": null,
      "outputs": [
        {
          "output_type": "execute_result",
          "data": {
            "text/html": [
              "<div>\n",
              "<style scoped>\n",
              "    .dataframe tbody tr th:only-of-type {\n",
              "        vertical-align: middle;\n",
              "    }\n",
              "\n",
              "    .dataframe tbody tr th {\n",
              "        vertical-align: top;\n",
              "    }\n",
              "\n",
              "    .dataframe thead th {\n",
              "        text-align: right;\n",
              "    }\n",
              "</style>\n",
              "<table border=\"1\" class=\"dataframe\">\n",
              "  <thead>\n",
              "    <tr style=\"text-align: right;\">\n",
              "      <th></th>\n",
              "      <th>Registration No</th>\n",
              "      <th>Type</th>\n",
              "      <th>Area</th>\n",
              "      <th>Land</th>\n",
              "      <th>Total_Weight</th>\n",
              "      <th>Total_Price</th>\n",
              "    </tr>\n",
              "  </thead>\n",
              "  <tbody>\n",
              "    <tr>\n",
              "      <th>0</th>\n",
              "      <td>21050104006</td>\n",
              "      <td>1</td>\n",
              "      <td>Chattogram</td>\n",
              "      <td>0.0</td>\n",
              "      <td>266 (-2)</td>\n",
              "      <td>27685.0</td>\n",
              "    </tr>\n",
              "    <tr>\n",
              "      <th>1</th>\n",
              "      <td>21050104005</td>\n",
              "      <td>1</td>\n",
              "      <td>Chattogram</td>\n",
              "      <td>1.0</td>\n",
              "      <td>473 (-0)</td>\n",
              "      <td>59301.0</td>\n",
              "    </tr>\n",
              "    <tr>\n",
              "      <th>2</th>\n",
              "      <td>21030104020</td>\n",
              "      <td>1</td>\n",
              "      <td>Kushtia</td>\n",
              "      <td>0.0</td>\n",
              "      <td>201 (-0)</td>\n",
              "      <td>27740.0</td>\n",
              "    </tr>\n",
              "    <tr>\n",
              "      <th>3</th>\n",
              "      <td>21050104004</td>\n",
              "      <td>1</td>\n",
              "      <td>Chattogram</td>\n",
              "      <td>1.0</td>\n",
              "      <td>836 (-0)</td>\n",
              "      <td>120594.0</td>\n",
              "    </tr>\n",
              "    <tr>\n",
              "      <th>4</th>\n",
              "      <td>21050104003</td>\n",
              "      <td>1</td>\n",
              "      <td>Chattogram</td>\n",
              "      <td>1.0</td>\n",
              "      <td>705 (-0)</td>\n",
              "      <td>93627.0</td>\n",
              "    </tr>\n",
              "  </tbody>\n",
              "</table>\n",
              "</div>"
            ],
            "text/plain": [
              "   Registration No  Type        Area  Land Total_Weight  Total_Price\n",
              "0      21050104006     1  Chattogram   0.0     266 (-2)      27685.0\n",
              "1      21050104005     1  Chattogram   1.0     473 (-0)      59301.0\n",
              "2      21030104020     1     Kushtia   0.0     201 (-0)      27740.0\n",
              "3      21050104004     1  Chattogram   1.0     836 (-0)     120594.0\n",
              "4      21050104003     1  Chattogram   1.0     705 (-0)      93627.0"
            ]
          },
          "metadata": {
            "tags": []
          },
          "execution_count": 8
        }
      ]
    },
    {
      "cell_type": "code",
      "metadata": {
        "colab": {
          "base_uri": "https://localhost:8080/"
        },
        "id": "jNCKaPVHe7cF",
        "outputId": "477eabdd-ec5a-4736-9264-76d45119a37a"
      },
      "source": [
        "print(dataset.shape)"
      ],
      "execution_count": null,
      "outputs": [
        {
          "output_type": "stream",
          "text": [
            "(921, 6)\n"
          ],
          "name": "stdout"
        }
      ]
    },
    {
      "cell_type": "code",
      "metadata": {
        "colab": {
          "base_uri": "https://localhost:8080/"
        },
        "id": "rb8AXWNze7eX",
        "outputId": "ac1563d8-799e-40e0-99be-c613e77434a5"
      },
      "source": [
        "print(dataset.columns)"
      ],
      "execution_count": null,
      "outputs": [
        {
          "output_type": "stream",
          "text": [
            "Index(['Registration No', 'Type', 'Area', 'Land', 'Total_Weight',\n",
            "       'Total_Price'],\n",
            "      dtype='object')\n"
          ],
          "name": "stdout"
        }
      ]
    },
    {
      "cell_type": "code",
      "metadata": {
        "id": "2uDu9qRbe7ge"
      },
      "source": [
        "dataset[\"Land\"] = dataset[\"Land\"].astype(\"int64\")"
      ],
      "execution_count": null,
      "outputs": []
    },
    {
      "cell_type": "markdown",
      "metadata": {
        "id": "qIuoxIQxpfXI"
      },
      "source": [
        "## **Statistical Analysis**"
      ]
    },
    {
      "cell_type": "code",
      "metadata": {
        "colab": {
          "base_uri": "https://localhost:8080/",
          "height": 297
        },
        "id": "IeBkMnyle7ik",
        "outputId": "47a954a8-f697-4183-b43c-9a1156594777"
      },
      "source": [
        "dataset.describe()"
      ],
      "execution_count": null,
      "outputs": [
        {
          "output_type": "execute_result",
          "data": {
            "text/html": [
              "<div>\n",
              "<style scoped>\n",
              "    .dataframe tbody tr th:only-of-type {\n",
              "        vertical-align: middle;\n",
              "    }\n",
              "\n",
              "    .dataframe tbody tr th {\n",
              "        vertical-align: top;\n",
              "    }\n",
              "\n",
              "    .dataframe thead th {\n",
              "        text-align: right;\n",
              "    }\n",
              "</style>\n",
              "<table border=\"1\" class=\"dataframe\">\n",
              "  <thead>\n",
              "    <tr style=\"text-align: right;\">\n",
              "      <th></th>\n",
              "      <th>Registration No</th>\n",
              "      <th>Type</th>\n",
              "      <th>Land</th>\n",
              "      <th>Total_Price</th>\n",
              "    </tr>\n",
              "  </thead>\n",
              "  <tbody>\n",
              "    <tr>\n",
              "      <th>count</th>\n",
              "      <td>9.210000e+02</td>\n",
              "      <td>921.000000</td>\n",
              "      <td>921.000000</td>\n",
              "      <td>7.700000e+02</td>\n",
              "    </tr>\n",
              "    <tr>\n",
              "      <th>mean</th>\n",
              "      <td>2.102072e+10</td>\n",
              "      <td>1.983713</td>\n",
              "      <td>1.482085</td>\n",
              "      <td>1.255593e+05</td>\n",
              "    </tr>\n",
              "    <tr>\n",
              "      <th>std</th>\n",
              "      <td>1.047714e+07</td>\n",
              "      <td>0.126644</td>\n",
              "      <td>8.118414</td>\n",
              "      <td>2.944829e+05</td>\n",
              "    </tr>\n",
              "    <tr>\n",
              "      <th>min</th>\n",
              "      <td>2.101010e+10</td>\n",
              "      <td>1.000000</td>\n",
              "      <td>0.000000</td>\n",
              "      <td>9.088000e+03</td>\n",
              "    </tr>\n",
              "    <tr>\n",
              "      <th>25%</th>\n",
              "      <td>2.101020e+10</td>\n",
              "      <td>2.000000</td>\n",
              "      <td>0.000000</td>\n",
              "      <td>4.136100e+04</td>\n",
              "    </tr>\n",
              "    <tr>\n",
              "      <th>50%</th>\n",
              "      <td>2.102010e+10</td>\n",
              "      <td>2.000000</td>\n",
              "      <td>1.000000</td>\n",
              "      <td>5.842200e+04</td>\n",
              "    </tr>\n",
              "    <tr>\n",
              "      <th>75%</th>\n",
              "      <td>2.103020e+10</td>\n",
              "      <td>2.000000</td>\n",
              "      <td>2.000000</td>\n",
              "      <td>9.715300e+04</td>\n",
              "    </tr>\n",
              "    <tr>\n",
              "      <th>max</th>\n",
              "      <td>2.105010e+10</td>\n",
              "      <td>2.000000</td>\n",
              "      <td>200.000000</td>\n",
              "      <td>4.626462e+06</td>\n",
              "    </tr>\n",
              "  </tbody>\n",
              "</table>\n",
              "</div>"
            ],
            "text/plain": [
              "       Registration No        Type        Land   Total_Price\n",
              "count     9.210000e+02  921.000000  921.000000  7.700000e+02\n",
              "mean      2.102072e+10    1.983713    1.482085  1.255593e+05\n",
              "std       1.047714e+07    0.126644    8.118414  2.944829e+05\n",
              "min       2.101010e+10    1.000000    0.000000  9.088000e+03\n",
              "25%       2.101020e+10    2.000000    0.000000  4.136100e+04\n",
              "50%       2.102010e+10    2.000000    1.000000  5.842200e+04\n",
              "75%       2.103020e+10    2.000000    2.000000  9.715300e+04\n",
              "max       2.105010e+10    2.000000  200.000000  4.626462e+06"
            ]
          },
          "metadata": {
            "tags": []
          },
          "execution_count": 12
        }
      ]
    },
    {
      "cell_type": "code",
      "metadata": {
        "colab": {
          "base_uri": "https://localhost:8080/"
        },
        "id": "dtEu7JfCqfY5",
        "outputId": "c73e6aff-f5ba-4d06-c5ff-c8bc6eb4081e"
      },
      "source": [
        "dataset.max()"
      ],
      "execution_count": null,
      "outputs": [
        {
          "output_type": "execute_result",
          "data": {
            "text/plain": [
              "Registration No    21050104006\n",
              "Type                         2\n",
              "Area                   Rangpur\n",
              "Land                       200\n",
              "Total_Price        4.62646e+06\n",
              "dtype: object"
            ]
          },
          "metadata": {
            "tags": []
          },
          "execution_count": 13
        }
      ]
    },
    {
      "cell_type": "code",
      "metadata": {
        "colab": {
          "base_uri": "https://localhost:8080/"
        },
        "id": "20YlYaGxqfbY",
        "outputId": "7f984350-e758-47cb-8cdc-3707ac421ce1"
      },
      "source": [
        "dataset.columns.tolist()"
      ],
      "execution_count": null,
      "outputs": [
        {
          "output_type": "execute_result",
          "data": {
            "text/plain": [
              "['Registration No', 'Type', 'Area', 'Land', 'Total_Weight', 'Total_Price']"
            ]
          },
          "metadata": {
            "tags": []
          },
          "execution_count": 14
        }
      ]
    },
    {
      "cell_type": "code",
      "metadata": {
        "colab": {
          "base_uri": "https://localhost:8080/"
        },
        "id": "ytqJNeJErVLg",
        "outputId": "ce5b87a7-77a1-4422-bd99-15ae14141657"
      },
      "source": [
        "for index, row in dataset.iterrows():\n",
        "    print(row)\n",
        "    if index == 1:\n",
        "        break"
      ],
      "execution_count": null,
      "outputs": [
        {
          "output_type": "stream",
          "text": [
            "Registration No    21050104006\n",
            "Type                         1\n",
            "Area                Chattogram\n",
            "Land                         0\n",
            "Total_Weight          266 (-2)\n",
            "Total_Price              27685\n",
            "Name: 0, dtype: object\n",
            "Registration No    21050104005\n",
            "Type                         1\n",
            "Area                Chattogram\n",
            "Land                         1\n",
            "Total_Weight          473 (-0)\n",
            "Total_Price              59301\n",
            "Name: 1, dtype: object\n"
          ],
          "name": "stdout"
        }
      ]
    },
    {
      "cell_type": "code",
      "metadata": {
        "id": "0mj5_J-CrVRR"
      },
      "source": [
        ""
      ],
      "execution_count": null,
      "outputs": []
    },
    {
      "cell_type": "markdown",
      "metadata": {
        "id": "DivfHCwPg_Iv"
      },
      "source": [
        "## **Visualization**"
      ]
    },
    {
      "cell_type": "markdown",
      "metadata": {
        "id": "WabINGhNuwuw"
      },
      "source": [
        "**Bar plot of missing values of the data attributes** "
      ]
    },
    {
      "cell_type": "code",
      "metadata": {
        "colab": {
          "base_uri": "https://localhost:8080/",
          "height": 620
        },
        "id": "4QNgWogte7lB",
        "outputId": "0a06dfd1-8796-4bce-e335-f9bcdfa355e7"
      },
      "source": [
        "import missingno as msno\n",
        "print(dataset.isnull().sum())\n",
        "\n",
        "p = msno.bar(dataset, figsize = (9,6))"
      ],
      "execution_count": null,
      "outputs": [
        {
          "output_type": "stream",
          "text": [
            "Registration No      0\n",
            "Type                 0\n",
            "Area                 0\n",
            "Land                 0\n",
            "Total_Weight       151\n",
            "Total_Price        151\n",
            "dtype: int64\n"
          ],
          "name": "stdout"
        },
        {
          "output_type": "display_data",
          "data": {
            "image/png": "[encoded data removed]",
            "text/plain": [
              "<Figure size 648x432 with 3 Axes>"
            ]
          },
          "metadata": {
            "tags": [],
            "needs_background": "light"
          }
        }
      ]
    },
    {
      "cell_type": "markdown",
      "metadata": {
        "id": "n-nZbcVovGam"
      },
      "source": [
        "**some statistical analysis**"
      ]
    },
    {
      "cell_type": "code",
      "metadata": {
        "colab": {
          "base_uri": "https://localhost:8080/",
          "height": 390
        },
        "id": "YZVCjn-YfJZ2",
        "outputId": "99fa785c-7579-4c1d-e856-4debd92e7ae9"
      },
      "source": [
        "col = dataset.columns.tolist()\n",
        "dataset[col].describe(percentiles = [.25,.5,.75,.95,.97,.99]) "
      ],
      "execution_count": null,
      "outputs": [
        {
          "output_type": "execute_result",
          "data": {
            "text/html": [
              "<div>\n",
              "<style scoped>\n",
              "    .dataframe tbody tr th:only-of-type {\n",
              "        vertical-align: middle;\n",
              "    }\n",
              "\n",
              "    .dataframe tbody tr th {\n",
              "        vertical-align: top;\n",
              "    }\n",
              "\n",
              "    .dataframe thead th {\n",
              "        text-align: right;\n",
              "    }\n",
              "</style>\n",
              "<table border=\"1\" class=\"dataframe\">\n",
              "  <thead>\n",
              "    <tr style=\"text-align: right;\">\n",
              "      <th></th>\n",
              "      <th>Registration No</th>\n",
              "      <th>Type</th>\n",
              "      <th>Land</th>\n",
              "      <th>Total_Price</th>\n",
              "    </tr>\n",
              "  </thead>\n",
              "  <tbody>\n",
              "    <tr>\n",
              "      <th>count</th>\n",
              "      <td>9.210000e+02</td>\n",
              "      <td>921.000000</td>\n",
              "      <td>921.000000</td>\n",
              "      <td>7.700000e+02</td>\n",
              "    </tr>\n",
              "    <tr>\n",
              "      <th>mean</th>\n",
              "      <td>2.102072e+10</td>\n",
              "      <td>1.983713</td>\n",
              "      <td>1.482085</td>\n",
              "      <td>1.255593e+05</td>\n",
              "    </tr>\n",
              "    <tr>\n",
              "      <th>std</th>\n",
              "      <td>1.047714e+07</td>\n",
              "      <td>0.126644</td>\n",
              "      <td>8.118414</td>\n",
              "      <td>2.944829e+05</td>\n",
              "    </tr>\n",
              "    <tr>\n",
              "      <th>min</th>\n",
              "      <td>2.101010e+10</td>\n",
              "      <td>1.000000</td>\n",
              "      <td>0.000000</td>\n",
              "      <td>9.088000e+03</td>\n",
              "    </tr>\n",
              "    <tr>\n",
              "      <th>25%</th>\n",
              "      <td>2.101020e+10</td>\n",
              "      <td>2.000000</td>\n",
              "      <td>0.000000</td>\n",
              "      <td>4.136100e+04</td>\n",
              "    </tr>\n",
              "    <tr>\n",
              "      <th>50%</th>\n",
              "      <td>2.102010e+10</td>\n",
              "      <td>2.000000</td>\n",
              "      <td>1.000000</td>\n",
              "      <td>5.842200e+04</td>\n",
              "    </tr>\n",
              "    <tr>\n",
              "      <th>75%</th>\n",
              "      <td>2.103020e+10</td>\n",
              "      <td>2.000000</td>\n",
              "      <td>2.000000</td>\n",
              "      <td>9.715300e+04</td>\n",
              "    </tr>\n",
              "    <tr>\n",
              "      <th>95%</th>\n",
              "      <td>2.104010e+10</td>\n",
              "      <td>2.000000</td>\n",
              "      <td>3.000000</td>\n",
              "      <td>4.047932e+05</td>\n",
              "    </tr>\n",
              "    <tr>\n",
              "      <th>97%</th>\n",
              "      <td>2.104011e+10</td>\n",
              "      <td>2.000000</td>\n",
              "      <td>4.000000</td>\n",
              "      <td>5.971041e+05</td>\n",
              "    </tr>\n",
              "    <tr>\n",
              "      <th>99%</th>\n",
              "      <td>2.104011e+10</td>\n",
              "      <td>2.000000</td>\n",
              "      <td>5.000000</td>\n",
              "      <td>1.521536e+06</td>\n",
              "    </tr>\n",
              "    <tr>\n",
              "      <th>max</th>\n",
              "      <td>2.105010e+10</td>\n",
              "      <td>2.000000</td>\n",
              "      <td>200.000000</td>\n",
              "      <td>4.626462e+06</td>\n",
              "    </tr>\n",
              "  </tbody>\n",
              "</table>\n",
              "</div>"
            ],
            "text/plain": [
              "       Registration No        Type        Land   Total_Price\n",
              "count     9.210000e+02  921.000000  921.000000  7.700000e+02\n",
              "mean      2.102072e+10    1.983713    1.482085  1.255593e+05\n",
              "std       1.047714e+07    0.126644    8.118414  2.944829e+05\n",
              "min       2.101010e+10    1.000000    0.000000  9.088000e+03\n",
              "25%       2.101020e+10    2.000000    0.000000  4.136100e+04\n",
              "50%       2.102010e+10    2.000000    1.000000  5.842200e+04\n",
              "75%       2.103020e+10    2.000000    2.000000  9.715300e+04\n",
              "95%       2.104010e+10    2.000000    3.000000  4.047932e+05\n",
              "97%       2.104011e+10    2.000000    4.000000  5.971041e+05\n",
              "99%       2.104011e+10    2.000000    5.000000  1.521536e+06\n",
              "max       2.105010e+10    2.000000  200.000000  4.626462e+06"
            ]
          },
          "metadata": {
            "tags": []
          },
          "execution_count": 17
        }
      ]
    },
    {
      "cell_type": "markdown",
      "metadata": {
        "id": "qhZFUaaDwTj4"
      },
      "source": [
        "**scatter plot of land vs total price values**"
      ]
    },
    {
      "cell_type": "code",
      "metadata": {
        "colab": {
          "base_uri": "https://localhost:8080/",
          "height": 276
        },
        "id": "F9DMp0nGsS5x",
        "outputId": "045d05ea-b694-4dac-cd67-50d07c31281a"
      },
      "source": [
        "x = dataset.Land\n",
        "y = dataset.Total_Price\n",
        "plt.scatter(x, y)\n",
        "plt.show()"
      ],
      "execution_count": null,
      "outputs": [
        {
          "output_type": "display_data",
          "data": {
            "image/png": "[encoded data removed]",
            "text/plain": [
              "<Figure size 432x288 with 1 Axes>"
            ]
          },
          "metadata": {
            "tags": [],
            "needs_background": "light"
          }
        }
      ]
    },
    {
      "cell_type": "markdown",
      "metadata": {
        "id": "LN8_6n8fwvU3"
      },
      "source": [
        "**plot for analysis of land vs total price values for extracting the condition of the correlation**"
      ]
    },
    {
      "cell_type": "code",
      "metadata": {
        "colab": {
          "base_uri": "https://localhost:8080/",
          "height": 231
        },
        "id": "w-ZnaIVjsS8e",
        "outputId": "d646d40d-b67c-4e6c-c685-5bb6392b6e24"
      },
      "source": [
        "x = dataset.Land\n",
        "y = dataset.Total_Price\n",
        "\n",
        "stats = linregress(x, y)\n",
        "\n",
        "m = stats.slope\n",
        "b = stats.intercept\n",
        "\n",
        "# Change the default figure size\n",
        "plt.figure(figsize=(10,10))\n",
        "\n",
        "# Change the default marker for the scatter from circles to x's\n",
        "plt.scatter(x, y, marker='x')\n",
        "\n",
        "# Set the linewidth on the regression line to 3px\n",
        "plt.plot(x, m * x + b, color=\"red\", linewidth=3)\n",
        "\n",
        "# Add x and y lables, and set their font size\n",
        "plt.xlabel(\"Land\", fontsize=20)\n",
        "plt.ylabel(\"Total_Price\", fontsize=20)\n",
        "\n",
        "# Set the font size of the number lables on the axes\n",
        "plt.xticks(fontsize=18)\n",
        "plt.yticks(fontsize=18)"
      ],
      "execution_count": null,
      "outputs": [
        {
          "output_type": "error",
          "ename": "NameError",
          "evalue": "ignored",
          "traceback": [
            "\u001b[0;31m---------------------------------------------------------------------------\u001b[0m",
            "\u001b[0;31mNameError\u001b[0m                                 Traceback (most recent call last)",
            "\u001b[0;32m<ipython-input-19-0062917c6576>\u001b[0m in \u001b[0;36m<module>\u001b[0;34m()\u001b[0m\n\u001b[1;32m      2\u001b[0m \u001b[0my\u001b[0m \u001b[0;34m=\u001b[0m \u001b[0mdataset\u001b[0m\u001b[0;34m.\u001b[0m\u001b[0mTotal_Price\u001b[0m\u001b[0;34m\u001b[0m\u001b[0;34m\u001b[0m\u001b[0m\n\u001b[1;32m      3\u001b[0m \u001b[0;34m\u001b[0m\u001b[0m\n\u001b[0;32m----> 4\u001b[0;31m \u001b[0mstats\u001b[0m \u001b[0;34m=\u001b[0m \u001b[0mlinregress\u001b[0m\u001b[0;34m(\u001b[0m\u001b[0mx\u001b[0m\u001b[0;34m,\u001b[0m \u001b[0my\u001b[0m\u001b[0;34m)\u001b[0m\u001b[0;34m\u001b[0m\u001b[0;34m\u001b[0m\u001b[0m\n\u001b[0m\u001b[1;32m      5\u001b[0m \u001b[0;34m\u001b[0m\u001b[0m\n\u001b[1;32m      6\u001b[0m \u001b[0mm\u001b[0m \u001b[0;34m=\u001b[0m \u001b[0mstats\u001b[0m\u001b[0;34m.\u001b[0m\u001b[0mslope\u001b[0m\u001b[0;34m\u001b[0m\u001b[0;34m\u001b[0m\u001b[0m\n",
            "\u001b[0;31mNameError\u001b[0m: name 'linregress' is not defined"
          ]
        }
      ]
    },
    {
      "cell_type": "markdown",
      "metadata": {
        "id": "4jfmVc-dxViX"
      },
      "source": [
        "**histogram plot of the dataset**"
      ]
    },
    {
      "cell_type": "code",
      "metadata": {
        "id": "y0vnrvdWfJb0"
      },
      "source": [
        "dataset[col].hist(figsize=(10,15),color = 'green')"
      ],
      "execution_count": null,
      "outputs": []
    },
    {
      "cell_type": "markdown",
      "metadata": {
        "id": "aPnD6N2_xarw"
      },
      "source": [
        "**land histogram plot**"
      ]
    },
    {
      "cell_type": "code",
      "metadata": {
        "id": "eh2i6X3efJdv"
      },
      "source": [
        "sns.distplot(dataset['Land'], kde = True, hist = True, bins= 30)\n",
        "plt.title(\"Density plot of Estimated land count\")"
      ],
      "execution_count": null,
      "outputs": []
    },
    {
      "cell_type": "markdown",
      "metadata": {
        "id": "7gUnBk7dxktv"
      },
      "source": [
        "**histogram plot of the type whether it's farmer(2) and suppliers(1)**"
      ]
    },
    {
      "cell_type": "code",
      "metadata": {
        "id": "AT60AMy-fTUt"
      },
      "source": [
        "sns.distplot(dataset['Type'], kde = True, hist = True, bins= 30)\n",
        "plt.title(\"Density plot of Estimated type count\")"
      ],
      "execution_count": null,
      "outputs": []
    },
    {
      "cell_type": "markdown",
      "metadata": {
        "id": "LWuMiTQhx14w"
      },
      "source": [
        "**another significant bar plot on land and type**"
      ]
    },
    {
      "cell_type": "code",
      "metadata": {
        "id": "XUcDlSMmfTXI"
      },
      "source": [
        "plt.figure(figsize = (15,5))\n",
        "sns.countplot(dataset['Land'], palette = 'hsv')\n",
        "plt.title('Count of Land')\n",
        "plt.show() \n",
        "sns.countplot(dataset['Type'], palette = 'hsv')\n",
        "plt.title('Count of Type ')\n",
        "plt.show()"
      ],
      "execution_count": null,
      "outputs": []
    },
    {
      "cell_type": "markdown",
      "metadata": {
        "id": "rzgp7AKdyS6v"
      },
      "source": [
        "**another significant bar plot on land and total price**"
      ]
    },
    {
      "cell_type": "code",
      "metadata": {
        "id": "-U2YbpJoyEtu"
      },
      "source": [
        "plt.figure(figsize = (15,5))\n",
        "sns.countplot(dataset['Land'], palette = 'hsv')\n",
        "plt.title('Count of Land')\n",
        "plt.show() \n",
        "sns.countplot(dataset['Total_Price'], palette = 'hsv')\n",
        "plt.title('Count of Total_Price')\n",
        "plt.show()"
      ],
      "execution_count": null,
      "outputs": []
    },
    {
      "cell_type": "code",
      "metadata": {
        "id": "A7cj_SOFfTYx"
      },
      "source": [
        "sns.countplot(dataset['Land'], palette = 'dark')\n",
        "plt.title(\"Count plot of Land\")\n",
        "plt.show()\n"
      ],
      "execution_count": null,
      "outputs": []
    },
    {
      "cell_type": "markdown",
      "metadata": {
        "id": "cWu1u64RyeN_"
      },
      "source": [
        "**visualization of area data as their frequency in the dataset**"
      ]
    },
    {
      "cell_type": "code",
      "metadata": {
        "id": "taBf7ke1fTb4"
      },
      "source": [
        "plt.figure(figsize = (10,5))\n",
        "plt.subplot(1,2,1)\n",
        "sns.countplot(dataset['Area'], palette = 'hsv')\n",
        "plt.title('Count plot of Area')\n"
      ],
      "execution_count": null,
      "outputs": []
    },
    {
      "cell_type": "markdown",
      "metadata": {
        "id": "JRjbMbf2ytm3"
      },
      "source": [
        "**pie plot of area perncentile as the frequency**"
      ]
    },
    {
      "cell_type": "code",
      "metadata": {
        "id": "Jjn78XG3fTd9"
      },
      "source": [
        "plt.pie(dataset.Land.value_counts().to_list()[:5], labels=dataset.Land.value_counts().index[:5], radius=1.8, autopct=\"%0.2f%%\")\n",
        "plt.show()"
      ],
      "execution_count": null,
      "outputs": []
    },
    {
      "cell_type": "markdown",
      "metadata": {
        "id": "DjXfitgNy4Xh"
      },
      "source": [
        "**box blot of land**"
      ]
    },
    {
      "cell_type": "code",
      "metadata": {
        "id": "OdGkPOm9fTgG"
      },
      "source": [
        "plt.figure(figsize=(10,5))\n",
        "plt.boxplot(np.log(dataset.Land.values))\n",
        "plt.xlabel(\"Box Plot\",fontsize=15)\n",
        "plt.ylabel(\"log(Land)\",fontsize=15)\n",
        "plt.title(\"Box Plot of log(Land)\",fontsize=20)\n",
        "plt.grid()"
      ],
      "execution_count": null,
      "outputs": []
    },
    {
      "cell_type": "markdown",
      "metadata": {
        "id": "BNv3MLZpzinH"
      },
      "source": [
        "**some correlation between different attributes of the dataset** "
      ]
    },
    {
      "cell_type": "code",
      "metadata": {
        "id": "5pJC3iHgfTkA"
      },
      "source": [
        "plt.figure(figsize=(15,6))\n",
        "sns.lmplot('Land','Registration No',data=dataset,line_kws={'color':'red'})\n",
        "plt.title('Registration No vs Land')\n",
        "plt.grid()"
      ],
      "execution_count": null,
      "outputs": []
    },
    {
      "cell_type": "code",
      "metadata": {
        "id": "XBw9b3obzUXI"
      },
      "source": [
        "plt.figure(figsize=(15,6))\n",
        "sns.lmplot('Total_Price','Registration No',data=dataset,line_kws={'color':'red'})\n",
        "plt.title('Registration No vs Total_Price')\n",
        "plt.grid()"
      ],
      "execution_count": null,
      "outputs": []
    },
    {
      "cell_type": "code",
      "metadata": {
        "id": "xXnoqGglfTl5"
      },
      "source": [
        "plt.figure(figsize=(15,6))\n",
        "sns.lmplot('Type','Registration No',data=dataset,line_kws={'color':'green'})\n",
        "plt.title('Registration No vs Type')\n",
        "plt.grid()"
      ],
      "execution_count": null,
      "outputs": []
    },
    {
      "cell_type": "code",
      "metadata": {
        "id": "BVon3ogifToB"
      },
      "source": [
        "plt.figure(figsize=(15,6))\n",
        "sns.lmplot('Type','Land',data=dataset,line_kws={'color':'blue'})\n",
        "plt.title('Type vs Land')\n",
        "plt.grid()"
      ],
      "execution_count": null,
      "outputs": []
    },
    {
      "cell_type": "markdown",
      "metadata": {
        "id": "rR18kHhVz4s3"
      },
      "source": [
        "**land and area data analysis**"
      ]
    },
    {
      "cell_type": "code",
      "metadata": {
        "id": "N0PKv9l3fTqB"
      },
      "source": [
        "sns.countplot(x=\"Land\", hue=\"Area\", data=dataset);"
      ],
      "execution_count": null,
      "outputs": []
    },
    {
      "cell_type": "code",
      "metadata": {
        "id": "wl2_TUvEfTsI"
      },
      "source": [
        "sns.lineplot(x=\"Land\", y=\"Registration No\", data=dataset)"
      ],
      "execution_count": null,
      "outputs": []
    },
    {
      "cell_type": "markdown",
      "metadata": {
        "id": "t-dEnDTB0Mmv"
      },
      "source": [
        "**pair grid plot for obtaining the characteristics amongst the parameters of the dataset**"
      ]
    },
    {
      "cell_type": "code",
      "metadata": {
        "id": "3qCD_T1bfTuS"
      },
      "source": [
        "plot = sns.PairGrid(dataset)\n",
        "plot.map(plt.plot)\n",
        "  \n",
        "plt.show()"
      ],
      "execution_count": null,
      "outputs": []
    },
    {
      "cell_type": "markdown",
      "metadata": {
        "id": "JQrF3z4K0n9H"
      },
      "source": [
        "**some box plot analysis on the dataset**"
      ]
    },
    {
      "cell_type": "code",
      "metadata": {
        "id": "RKjTsLtrfJf2"
      },
      "source": [
        "sns.boxplot(x='Land', y='Registration No', data=dataset)\n",
        "plt.show()"
      ],
      "execution_count": null,
      "outputs": []
    },
    {
      "cell_type": "code",
      "metadata": {
        "id": "8zXyIjic0vmW"
      },
      "source": [
        "sns.boxplot(x='Area', y='Total_Price', data=dataset)\n",
        "plt.show()"
      ],
      "execution_count": null,
      "outputs": []
    },
    {
      "cell_type": "code",
      "metadata": {
        "id": "u8V1fpt4gJRH"
      },
      "source": [
        "sns.violinplot(x='Land', y='Registration No', data=dataset)\n",
        "plt.show()"
      ],
      "execution_count": null,
      "outputs": []
    },
    {
      "cell_type": "code",
      "metadata": {
        "id": "scft-XTggJYS"
      },
      "source": [
        "sns.pairplot(data=dataset, hue='Land')\n",
        "plt.show()"
      ],
      "execution_count": null,
      "outputs": []
    },
    {
      "cell_type": "code",
      "metadata": {
        "id": "cDfq7JGt0_Mv"
      },
      "source": [
        "sns.pairplot(data=dataset, hue='Total_Price')\n",
        "plt.show()"
      ],
      "execution_count": null,
      "outputs": []
    },
    {
      "cell_type": "markdown",
      "metadata": {
        "id": "XP9OmP5x1OfH"
      },
      "source": [
        "**most important visualization of datasets which does show the correlation amongst the correlation of the data**"
      ]
    },
    {
      "cell_type": "code",
      "metadata": {
        "id": "L6L6TbnagJhH"
      },
      "source": [
        "# correlation between the different parameters \n",
        "tc = dataset.corr()\n",
        "  \n",
        "sns.heatmap(tc)\n",
        "plt.show()"
      ],
      "execution_count": null,
      "outputs": []
    }
  ]
}